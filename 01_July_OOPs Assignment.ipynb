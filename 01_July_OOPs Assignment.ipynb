{
 "cells": [
  {
   "cell_type": "markdown",
   "id": "ff0268e4",
   "metadata": {},
   "source": [
    "### 1. What is the primary goal of Object-Oriented Programming (OOP)?\n",
    "\n",
    "Ans:- The primary goal of Object-Oriented Programming (OOP) is to bind together the data and the functions that operate on them so that no other part of the code can access this data except that function.\n",
    "\n",
    "OOP is a programming paradigm that relies on the concept of classes and objects to structure a software program into simple, reusable pieces of code blueprints.\n",
    "\n",
    "OOP can help you consider objects in a program's code and the different actions that could happen in relation to the objects.\n",
    "\n",
    "Key goals and principles of OOP include\n",
    "Encapsulation\n",
    "\n",
    "Abstraction\n",
    "\n",
    "Inheritance\n",
    "\n",
    "Polymorphism\n",
    "\n",
    "Modularity\n",
    "\n",
    "Message Passing"
   ]
  },
  {
   "cell_type": "markdown",
   "id": "c451b212",
   "metadata": {},
   "source": [
    "### 2. What is an object in Python?\n",
    "\n",
    "Ans:- An object in Python is a collection of data and methods that represent a real-world entity or concept. For example, a person can be an object with attributes like name, age, height, and methods like walk, talk, eat, etc.\n",
    "\n",
    "Objects are created from classes, which are like blueprints for defining the common properties and behaviors of objects. One class can have many objects, each with different values for their attributes.\n",
    "\n",
    "To create an object in Python, you need to define a class first, using the keyword class, followed by the class name and a colon. Inside the class definition, you can use the special method __init__ to initialize the object attributes, using the parameter self to refer to the current instance of the class. \n",
    "\n",
    "You can also define other methods for the object, using self as the first parameter. To create an object from a class, you need to call the class name with parentheses, and optionally pass some arguments for the __init__ method."
   ]
  },
  {
   "cell_type": "code",
   "execution_count": 1,
   "id": "077631ab",
   "metadata": {},
   "outputs": [
    {
     "name": "stdout",
     "output_type": "stream",
     "text": [
      "BMW\n",
      "100000\n",
      "The model of this car is BMW\n",
      "The price of this car is 100000\n"
     ]
    }
   ],
   "source": [
    "class Car:\n",
    "   \n",
    "    def __init__(self, model, price):\n",
    "        self.model = model\n",
    "        self.price = price \n",
    "    \n",
    "   \n",
    "    def show_model(self):\n",
    "        print(\"The model of this car is\", self.model)\n",
    "    \n",
    " \n",
    "    def show_price(self):\n",
    "        print(\"The price of this car is\", self.price)\n",
    "\n",
    "\n",
    "Audi = Car(\"BMW\", 100000)\n",
    "\n",
    "\n",
    "print(Audi.model) \n",
    "print(Audi.price)\n",
    "\n",
    "\n",
    "Audi.show_model()\n",
    "Audi.show_price() "
   ]
  },
  {
   "cell_type": "markdown",
   "id": "bb67a3be",
   "metadata": {},
   "source": [
    "### 3. What is a class in Python?\n",
    "\n",
    "Ans:- A class in Python is a user-defined blueprint or prototype from which objects are created. Objects are instances of a class that have their own attributes and methods. A class can be seen as a template for creating objects with similar properties and behaviors.\n",
    "\n",
    "To create a class in Python, you use the keyword class followed by the name of the class and a colon. Then you define the attributes and methods inside the class body with proper indentation. You can also use special methods like init() and str() to initialize the object state and control how the object is represented as a string\n",
    "    \n",
    "    "
   ]
  },
  {
   "cell_type": "code",
   "execution_count": 2,
   "id": "6181f880",
   "metadata": {},
   "outputs": [
    {
     "name": "stdout",
     "output_type": "stream",
     "text": [
      "Alice\n",
      "Hello, my name is Alice and I am 30 years old.\n"
     ]
    }
   ],
   "source": [
    "\n",
    "class Person:\n",
    "    def __init__(self, name, age):\n",
    "        self.name = name\n",
    "        self.age = age\n",
    "\n",
    "    def greet(self):\n",
    "        print(f\"Hello, my name is {self.name} and I am {self.age} years old.\")\n",
    "\n",
    "\n",
    "person1 = Person(\"Alice\", 30)\n",
    "\n",
    "\n",
    "print(person1.name) \n",
    "person1.greet()    \n"
   ]
  },
  {
   "cell_type": "markdown",
   "id": "7c622bf6",
   "metadata": {},
   "source": [
    "### 4. What are attributes and methods in a class?\n",
    "\n",
    "Ans:- Attributes: Attributes are variables that store data associated with a class. They represent the state of objects created from the class. Attributes can be of different data types, such as integers, strings, or other objects.\n",
    "\n",
    "Methods: Methods are functions defined within a class. They define the behavior or actions that objects of the class can perform. Methods can access and manipulate the attributes of the class.\n",
    "\n",
    "Attributes and methods are two types of members that a class can have. Attributes are variables that store the state or data of an object, while methods are functions that define the behavior or functionality of an object. For example, if you have a class named Person, you can have attributes like name, age, and gender, and methods like greet, walk, and sleep. \n",
    "    \n",
    "    "
   ]
  },
  {
   "attachments": {
    "Screenshot%202023-09-14%20182608.png": {
     "image/png": "[encoded data removed]"
    }
   },
   "cell_type": "markdown",
   "id": "c0272eea",
   "metadata": {},
   "source": [
    "### 5. What is the difference between class variables and instance variables in Python?\n",
    "\n",
    "Ans:-  In Python, class variables are shared by all instances of a class, whereas instance variables are unique to each instance of a class.\n",
    "\n",
    "Class variables are declared within a class and their values are the same across all instances of a class. They can be accessed using the class name or an instance of the class.\n",
    "Instance variables are declared inside the constructor of a class and their values are specific to each instance of the class. They can be accessed using an instance of the class .\n",
    "Here’s a table that summarizes the differences between instance and class variables:\n",
    "\n",
    "![Screenshot%202023-09-14%20182608.png](attachment:Screenshot%202023-09-14%20182608.png)\n",
    "\n",
    "    "
   ]
  },
  {
   "cell_type": "markdown",
   "id": "11913fb9",
   "metadata": {},
   "source": [
    "### 6. What is the purpose of the self parameter in Python class methods?\n",
    "\n",
    "Ans:-  In Python, the self parameter is used to refer to the instance of an object within a class. It is used to access the attributes and methods of that specific instance of the class.\n",
    "\n",
    "When a method is called on an instance of a class, the interpreter needs a way to know which instance of the class the method is being called on. The self parameter provides this information by automatically passing the instance as the first argument to the method .\n",
    "\n",
    "The self parameter is not special to the code, it’s just another object By convention, self is used as the name of the first parameter of every class method, including __init__. In the __init__ method, self refers to the newly created object in other class methods."
   ]
  },
  {
   "cell_type": "code",
   "execution_count": 3,
   "id": "9e3bbe56",
   "metadata": {},
   "outputs": [
    {
     "name": "stdout",
     "output_type": "stream",
     "text": [
      "Alice\n",
      "Hello, my name is Alice and I am 30 years old.\n",
      "31\n"
     ]
    }
   ],
   "source": [
    "class Person:\n",
    "    def __init__(self, name, age):\n",
    "        self.name = name  # instance variable\n",
    "        self.age = age    # instance variable\n",
    "\n",
    "    def greet(self):\n",
    "        print(f\"Hello, my name is {self.name} and I am {self.age} years old.\")\n",
    "\n",
    "    def celebrate_birthday(self):\n",
    "        self.age += 1  \n",
    "\n",
    "person1 = Person(\"Alice\", 30)\n",
    "\n",
    "\n",
    "print(person1.name) \n",
    "\n",
    "\n",
    "person1.greet()  \n",
    "\n",
    "\n",
    "person1.celebrate_birthday()\n",
    "print(person1.age) \n"
   ]
  },
  {
   "cell_type": "markdown",
   "id": "4894e4e3",
   "metadata": {},
   "source": [
    "    \n",
    "### 7. For a library management system, you have to design the \"Book\" class with OOP principles in mind. The “Book” class will have following attributes:\n",
    "\n",
    "#### a. title: Represents the title of the book.\n",
    "    \n",
    "#### b. author: Represents the author(s) of the book.\n",
    "    \n",
    "#### c. isbn: Represents the ISBN (International Standard Book Number) of the book.\n",
    "    \n",
    "#### d. publication_year: Represents the year of publication of the book.\n",
    "    \n",
    "#### e. available_copies: Represents the number of copies available for checkout.\n",
    "    \n",
    "#### The class will also include the following methods:\n",
    "    \n",
    "#### a. check_out(self): Decrements the available copies by one if there are copies available for checkout.\n",
    "\n",
    "#### b. return_book(self): Increments the available copies by one when a book is returned.\n",
    "    \n",
    "#### c. display_book_info(self): Displays the information about the book, including its attributes and the number of available copies.\n",
    "\n",
    "Ans:-\n",
    "    \n",
    "    "
   ]
  },
  {
   "cell_type": "code",
   "execution_count": 5,
   "id": "624b546f",
   "metadata": {},
   "outputs": [
    {
     "name": "stdout",
     "output_type": "stream",
     "text": [
      "Checked out: Python Programming\n",
      "Title: Python Programming\n",
      "Author: John Doe\n",
      "ISBN: 1234567890\n",
      "Publication Year: 2020\n",
      "Available Copies: 5\n"
     ]
    }
   ],
   "source": [
    "class Book:\n",
    "    def __init__(self, title, author, isbn, publication_year, available_copies):\n",
    "        self.title = title\n",
    "        self.author = author\n",
    "        self.isbn = isbn\n",
    "        self.publication_year = publication_year\n",
    "        self.available_copies = available_copies\n",
    "\n",
    "    def check_out(self):\n",
    "        if self.available_copies > 0:\n",
    "            self.available_copies -= 1\n",
    "            print(f\"Checked out: {self.title}\")\n",
    "        else:\n",
    "            print(\"Sorry, all copies of {self.title} are currently checked out.\")\n",
    "\n",
    "    def return_book(self):\n",
    "        self.available_copies += 1\n",
    "\n",
    "    def display_book_info(self):\n",
    "        print(f\"Title: {self.title}\")\n",
    "        print(f\"Author: {self.author}\")\n",
    "        print(f\"ISBN: {self.isbn}\")\n",
    "        print(f\"Publication Year: {self.publication_year}\")\n",
    "        print(f\"Available Copies: {self.available_copies}\")\n",
    "        \n",
    "        \n",
    "book1 = Book(\"Python Programming\", \"John Doe\", \"1234567890\", 2020, 5)\n",
    "\n",
    "book1.check_out()\n",
    " \n",
    "book1.return_book()\n",
    "\n",
    "book1.display_book_info()\n"
   ]
  },
  {
   "cell_type": "markdown",
   "id": "d3f1ec21",
   "metadata": {},
   "source": [
    "### 8. For a ticket booking system, you have to design the \"Ticket\" class with OOP principles in mind. The “Ticket” class should have the following attributes:\n",
    "\n",
    "#### a. ticket_id: Represents the unique identifier for the ticket.\n",
    "\n",
    "#### b. event_name: Represents the name of the event.\n",
    "\n",
    "#### c. event_date: Represents the date of the event.\n",
    "\n",
    "#### d. venue: Represents the venue of the event.\n",
    "\n",
    "#### e. seat_number: Represents the seat number associated with the ticket.\n",
    "\n",
    "#### f. price: Represents the price of the ticket.\n",
    "\n",
    "#### g. is_reserved: Represents the reservation status of the ticket.\n",
    "\n",
    "### The class also includes the following methods:\n",
    "\n",
    "#### a. reserve_ticket(self): Marks the ticket as reserved if it is not already reserved.\n",
    "\n",
    "#### b. cancel_reservation(self): Cancels the reservation of the ticket if it is already reserved.\n",
    "\n",
    "#### c. display_ticket_info(self): Displays the information about the ticket, including itsattributes and reservation status."
   ]
  },
  {
   "cell_type": "code",
   "execution_count": 3,
   "id": "209dcf3a",
   "metadata": {},
   "outputs": [
    {
     "name": "stdout",
     "output_type": "stream",
     "text": [
      "Ticket has been reserved.\n",
      "Ticket ID: T001\n",
      "Event Name: Concert\n",
      "Event Date: 2023-09-15\n",
      "Venue: Music Hall\n",
      "Seat Number: A23\n",
      "Price: 50.0\n",
      "Reservation Status: Reserved\n"
     ]
    }
   ],
   "source": [
    "class Ticket:\n",
    "    def __init__(self, ticket_id, event_name, event_date, venue, seat_number, price):\n",
    "        self.ticket_id = ticket_id\n",
    "        self.event_name = event_name\n",
    "        self.event_date = event_date\n",
    "        self.venue = venue\n",
    "        self.seat_number = seat_number\n",
    "        self.price = price\n",
    "        self.is_reserved = False\n",
    "\n",
    "    def reserve_ticket(self):\n",
    "        if not self.is_reserved:\n",
    "            self.is_reserved = True\n",
    "            print(\"Ticket has been reserved.\")\n",
    "        else:\n",
    "            print(\"Ticket is already reserved.\")\n",
    "\n",
    "    def cancel_reservation(self):\n",
    "        if self.is_reserved:\n",
    "            self.is_reserved = False\n",
    "            print(\"Reservation has been cancelled.\")\n",
    "        else:\n",
    "            print(\"Ticket is not reserved.\")\n",
    "\n",
    "    def display_ticket_info(self):\n",
    "        print(f\"Ticket ID: {self.ticket_id}\")\n",
    "        print(f\"Event Name: {self.event_name}\")\n",
    "        print(f\"Event Date: {self.event_date}\")\n",
    "        print(f\"Venue: {self.venue}\")\n",
    "        print(f\"Seat Number: {self.seat_number}\")\n",
    "        print(f\"Price: {self.price}\")\n",
    "        print(f\"Reservation Status: {'Reserved' if self.is_reserved else 'Not Reserved'}\")\n",
    "        \n",
    "        \n",
    "ticket1 = Ticket(\"T001\", \"Concert\", \"2023-09-15\", \"Music Hall\", \"A23\", 50.0)\n",
    "\n",
    "ticket1.reserve_ticket()\n",
    "\n",
    "ticket1.display_ticket_info()\n"
   ]
  },
  {
   "cell_type": "code",
   "execution_count": 4,
   "id": "7f8b1b1f",
   "metadata": {},
   "outputs": [
    {
     "name": "stdout",
     "output_type": "stream",
     "text": [
      "Ticket has been reserved.\n",
      "Reservation has been cancelled.\n",
      "Ticket ID: T002\n",
      "Event Name: Theater Show Jujustu kaisen O \n",
      "Event Date: 2023-09-20\n",
      "Venue: City Theater\n",
      "Seat Number: B10\n",
      "Price: 300.0\n",
      "Reservation Status: Not Reserved\n"
     ]
    }
   ],
   "source": [
    "ticket2 = Ticket(\"T002\", \"Theater Show Jujustu kaisen O \", \"2023-09-20\", \"City Theater\", \"B10\", 300.0)\n",
    "\n",
    "ticket2.reserve_ticket()\n",
    "\n",
    "ticket2.cancel_reservation()\n",
    "\n",
    "ticket2.display_ticket_info()"
   ]
  },
  {
   "cell_type": "markdown",
   "id": "460117a2",
   "metadata": {},
   "source": [
    "### 9. You are creating a shopping cart for an e-commerce website. Using OOP to model the \"ShoppingCart\" functionality the class should contain following attributes and methods:\n",
    "#### a. items: Represents the list of items in the shopping cart.\n",
    "### The class also includes the following methods:\n",
    "#### a. add_item(self, item): Adds an item to the shopping cart by appending it to the list of items.\n",
    "#### b. remove_item(self, item): Removes an item from the shopping cart if it exists in the list.\n",
    "#### c. view_cart(self): Displays the items currently present in the shopping cart.\n",
    "#### d. clear_cart(self): Clears all items from the shopping cart by reassigning an empty list to the items attribute."
   ]
  },
  {
   "cell_type": "code",
   "execution_count": 5,
   "id": "50cb04c3",
   "metadata": {},
   "outputs": [],
   "source": [
    "class ShoppingCart:\n",
    "    def __init__(self):\n",
    "        self.items = []\n",
    "\n",
    "    def add_item(self, item):\n",
    "        self.items.append(item)\n",
    "        print(f\"Added {item} to the shopping cart.\")\n",
    "\n",
    "    def remove_item(self, item):\n",
    "        if item in self.items:\n",
    "            self.items.remove(item)\n",
    "            print(f\"Removed {item} from the shopping cart.\")\n",
    "        else:\n",
    "            print(f\"{item} is not in the shopping cart.\")\n",
    "\n",
    "    def view_cart(self):\n",
    "        print(\"Items in the shopping cart:\")\n",
    "        for item in self.items:\n",
    "            print(item)\n",
    "\n",
    "    def clear_cart(self):\n",
    "        self.items = []\n",
    "        print(\"Cleared all items from the shopping cart.\")"
   ]
  },
  {
   "cell_type": "code",
   "execution_count": 8,
   "id": "15371091",
   "metadata": {},
   "outputs": [
    {
     "name": "stdout",
     "output_type": "stream",
     "text": [
      "Added Laptop to the shopping cart.\n",
      "Added Headphones to the shopping cart.\n",
      "Added Mouse to the shopping cart.\n",
      "Items in the shopping cart:\n",
      "Laptop\n",
      "Headphones\n",
      "Mouse\n",
      "Removed Headphones from the shopping cart.\n",
      "Keyboard is not in the shopping cart.\n",
      "Items in the shopping cart:\n",
      "Laptop\n",
      "Mouse\n"
     ]
    }
   ],
   "source": [
    "cart = ShoppingCart()\n",
    "cart.add_item(\"Laptop\")\n",
    "cart.add_item(\"Headphones\")\n",
    "cart.add_item(\"Mouse\")\n",
    "cart.view_cart()\n",
    "\n",
    "cart.remove_item(\"Headphones\")\n",
    "cart.remove_item(\"Keyboard\")\n",
    "\n",
    "cart.view_cart()\n"
   ]
  },
  {
   "cell_type": "code",
   "execution_count": 9,
   "id": "235984a8",
   "metadata": {},
   "outputs": [
    {
     "name": "stdout",
     "output_type": "stream",
     "text": [
      "Cleared all items from the shopping cart.\n",
      "Items in the shopping cart:\n"
     ]
    }
   ],
   "source": [
    "cart.clear_cart()\n",
    "cart.view_cart()"
   ]
  },
  {
   "cell_type": "markdown",
   "id": "a017976b",
   "metadata": {},
   "source": [
    "### 10. Imagine a school management system. You have to design the \"Student\" class using OOP concepts.The “Student” class has the following attributes:\n",
    "#### a. name: Represents the name of the student.\n",
    "#### b. age: Represents the age of the student.\n",
    "#### c. grade: Represents the grade or class of the student.\n",
    "#### d. student_id: Represents the unique identifier for the student.\n",
    "#### e. attendance: Represents the attendance record of the student.\n",
    "### The class should also include the following methods:\n",
    "#### a. update_attendance(self, date, status): Updates the attendance record of the student for a given date with the provided status (e.g., present or absent).\n",
    "#### b. get_attendance(self): Returns the attendance record of the student.\n",
    "#### c. get_average_attendance(self): Calculates and returns the average attendance percentage of the student based on their attendance record."
   ]
  },
  {
   "cell_type": "code",
   "execution_count": 10,
   "id": "13cbfd47",
   "metadata": {},
   "outputs": [],
   "source": [
    "class Student:\n",
    "    def __init__(self, name, age, grade, student_id):\n",
    "        self.name = name\n",
    "        self.age = age\n",
    "        self.grade = grade\n",
    "        self.student_id = student_id\n",
    "        self.attendance = {}\n",
    "\n",
    "    def update_attendance(self, date, status):\n",
    "        self.attendance[date] = status\n",
    "\n",
    "    def get_attendance(self):\n",
    "        return self.attendance\n",
    "\n",
    "    def get_average_attendance(self):\n",
    "        total_days = len(self.attendance)\n",
    "        present_days = list(self.attendance.values()).count('present')\n",
    "        if total_days > 0:\n",
    "            return (present_days / total_days) * 100\n",
    "        else:\n",
    "            return 0"
   ]
  },
  {
   "cell_type": "code",
   "execution_count": 12,
   "id": "92b6f967",
   "metadata": {},
   "outputs": [
    {
     "name": "stdout",
     "output_type": "stream",
     "text": [
      "Student Attendance:\n",
      "{'2023-09-01': 'present', '2023-09-02': 'absent', '2023-09-03': 'present', '2023-09-04': 'absent', '2023-09-05': 'present'}\n",
      "Average Attendance: 60.0\n"
     ]
    }
   ],
   "source": [
    "student1 = Student(\"Akash\", 18, \"12th Grade\", \"001\")\n",
    "student1.update_attendance(\"2023-09-01\", \"present\")\n",
    "student1.update_attendance(\"2023-09-02\", \"absent\")\n",
    "student1.update_attendance(\"2023-09-03\", \"present\")\n",
    "student1.update_attendance(\"2023-09-04\", \"absent\")\n",
    "student1.update_attendance(\"2023-09-05\", \"present\")\n",
    "\n",
    "print(\"Student Attendance:\")\n",
    "print(student1.get_attendance())\n",
    "print(\"Average Attendance:\", student1.get_average_attendance())"
   ]
  },
  {
   "cell_type": "code",
   "execution_count": null,
   "id": "d6017015",
   "metadata": {},
   "outputs": [],
   "source": []
  }
 ],
 "metadata": {
  "kernelspec": {
   "display_name": "Python 3 (ipykernel)",
   "language": "python",
   "name": "python3"
  },
  "language_info": {
   "codemirror_mode": {
    "name": "ipython",
    "version": 3
   },
   "file_extension": ".py",
   "mimetype": "text/x-python",
   "name": "python",
   "nbconvert_exporter": "python",
   "pygments_lexer": "ipython3",
   "version": "3.9.13"
  }
 },
 "nbformat": 4,
 "nbformat_minor": 5
}
