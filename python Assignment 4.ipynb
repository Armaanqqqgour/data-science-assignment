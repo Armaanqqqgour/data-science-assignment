{
 "cells": [
  {
   "cell_type": "markdown",
   "id": "ffa686e5",
   "metadata": {},
   "source": [
    "### 1. What exactly is [ ]?\n",
    "\n",
    "Ans:- In python [] represent an empty list. A list that contain no elements or items.\n",
    "\n",
    "For example:- [] this is a empty list.\n",
    "              [1,2,3,4,5] this is a list that contain some items.\n",
    "              "
   ]
  },
  {
   "cell_type": "markdown",
   "id": "6f34a528",
   "metadata": {},
   "source": [
    "### 2. In a list of values stored in a variable called spam, how would you assign the value 'hello' as the third value? (Assume [2, 4, 6, 8, 10] are in spam.)"
   ]
  },
  {
   "cell_type": "code",
   "execution_count": 16,
   "id": "3bfa4dba",
   "metadata": {},
   "outputs": [
    {
     "name": "stdout",
     "output_type": "stream",
     "text": [
      "[2, 4, 6, 8, 10]\n"
     ]
    }
   ],
   "source": [
    "spam=[2, 4, 6, 8, 10]\n",
    "print(spam)"
   ]
  },
  {
   "cell_type": "code",
   "execution_count": 17,
   "id": "47becae5",
   "metadata": {},
   "outputs": [
    {
     "name": "stdout",
     "output_type": "stream",
     "text": [
      "[2, 4, 'hello', 6, 8, 10]\n"
     ]
    }
   ],
   "source": [
    "spam.insert(2,\"hello\")\n",
    "print(spam)"
   ]
  },
  {
   "cell_type": "code",
   "execution_count": 14,
   "id": "9ed9a482",
   "metadata": {},
   "outputs": [
    {
     "data": {
      "text/plain": [
       "[2, 4, 'hello', 6, 8, 10]"
      ]
     },
     "execution_count": 14,
     "metadata": {},
     "output_type": "execute_result"
    }
   ],
   "source": [
    "spam"
   ]
  },
  {
   "cell_type": "markdown",
   "id": "83b7a37d",
   "metadata": {},
   "source": [
    "### Let's pretend the spam includes the list ['a', 'b', 'c', 'd'] for the next three queries.\n",
    "\n",
    "### 3. What is the value of spam[int(int('3' * 2) / 11)]?\n",
    "\n",
    "Ans:- the answer is d"
   ]
  },
  {
   "cell_type": "code",
   "execution_count": 19,
   "id": "b00b3668",
   "metadata": {},
   "outputs": [
    {
     "data": {
      "text/plain": [
       "'d'"
      ]
     },
     "execution_count": 19,
     "metadata": {},
     "output_type": "execute_result"
    }
   ],
   "source": [
    " spam=['a', 'b', 'c', 'd']\n",
    "\n",
    "spam[int(int('3' * 2) / 11)]    "
   ]
  },
  {
   "cell_type": "markdown",
   "id": "015a9702",
   "metadata": {},
   "source": [
    "### 4. What is the value of spam[-1]?"
   ]
  },
  {
   "cell_type": "code",
   "execution_count": 20,
   "id": "28b5781a",
   "metadata": {},
   "outputs": [
    {
     "data": {
      "text/plain": [
       "'d'"
      ]
     },
     "execution_count": 20,
     "metadata": {},
     "output_type": "execute_result"
    }
   ],
   "source": [
    "spam[-1]"
   ]
  },
  {
   "cell_type": "markdown",
   "id": "ac4e078c",
   "metadata": {},
   "source": [
    "### 5. What is the value of spam[:2]?"
   ]
  },
  {
   "cell_type": "code",
   "execution_count": 21,
   "id": "7ae9b9cc",
   "metadata": {},
   "outputs": [
    {
     "data": {
      "text/plain": [
       "['a', 'b']"
      ]
     },
     "execution_count": 21,
     "metadata": {},
     "output_type": "execute_result"
    }
   ],
   "source": [
    "spam[:2]"
   ]
  },
  {
   "cell_type": "markdown",
   "id": "d3537e6e",
   "metadata": {},
   "source": [
    "### Let's pretend bacon has the list [3.14, 'cat,' 11, 'cat,' True] for the next three questions.\n",
    "\n",
    "### 6. What is the value of bacon.index('cat')?"
   ]
  },
  {
   "cell_type": "code",
   "execution_count": 36,
   "id": "9d9109b6",
   "metadata": {},
   "outputs": [
    {
     "data": {
      "text/plain": [
       "1"
      ]
     },
     "execution_count": 36,
     "metadata": {},
     "output_type": "execute_result"
    }
   ],
   "source": [
    "bacon=[3.14, 'cat', 11, 'cat', True]\n",
    "\n",
    "bacon.index('cat')\n"
   ]
  },
  {
   "cell_type": "markdown",
   "id": "1e94700a",
   "metadata": {},
   "source": [
    "### 7. How does bacon.append(99) change the look of the list value in bacon?"
   ]
  },
  {
   "cell_type": "code",
   "execution_count": 37,
   "id": "76416f9e",
   "metadata": {},
   "outputs": [
    {
     "data": {
      "text/plain": [
       "[3.14, 'cat', 11, 'cat', True, 99]"
      ]
     },
     "execution_count": 37,
     "metadata": {},
     "output_type": "execute_result"
    }
   ],
   "source": [
    "bacon.append(99)\n",
    "\n",
    "bacon"
   ]
  },
  {
   "cell_type": "markdown",
   "id": "6fb70bd6",
   "metadata": {},
   "source": [
    "### 8. How does bacon.remove('cat') change the look of the list in bacon?"
   ]
  },
  {
   "cell_type": "code",
   "execution_count": 38,
   "id": "1a737ad6",
   "metadata": {},
   "outputs": [
    {
     "data": {
      "text/plain": [
       "[3.14, 11, 'cat', True, 99]"
      ]
     },
     "execution_count": 38,
     "metadata": {},
     "output_type": "execute_result"
    }
   ],
   "source": [
    "bacon.remove('cat')\n",
    "\n",
    "bacon"
   ]
  },
  {
   "cell_type": "markdown",
   "id": "4d113a15",
   "metadata": {},
   "source": [
    "### 9. What are the list concatenation and list replication operators?\n",
    "\n",
    "Ans:- + operator is used for list convatenation.It is used to combine two or more lists into a single list,\n",
    "\n",
    "and * operator is used for list replication, It is used to create a new list by repeating the elements of an existing list multiple times."
   ]
  },
  {
   "cell_type": "markdown",
   "id": "4bc20c71",
   "metadata": {},
   "source": [
    "### 10. What is difference between the list methods append() and insert()?\n",
    "\n",
    "Ans:- The append() method is used to add an element to the end of the list. while the insert() method is used to add an element anywhere  in the list. "
   ]
  },
  {
   "cell_type": "code",
   "execution_count": 5,
   "id": "a226f99f",
   "metadata": {},
   "outputs": [
    {
     "name": "stdout",
     "output_type": "stream",
     "text": [
      "[1, 2, 3, 4, 5]\n",
      "[1, 2, 5, 3, 4]\n"
     ]
    }
   ],
   "source": [
    "list_1=[1,2,3,4]\n",
    "list_1.append(5)\n",
    "print(list_1)   #   added 5 at the end\n",
    "\n",
    "list_1=[1,2,3,4]\n",
    "list_1.insert(2,5)\n",
    "print(list_1)    # added 5 at the 2nd position\n"
   ]
  },
  {
   "cell_type": "markdown",
   "id": "11ea152e",
   "metadata": {},
   "source": [
    "### 11. What are the two methods for removing items from a list?\n",
    "\n",
    "Ans:- The two methods for removing itemns from the list are del and remove. And their is one more known as pop()"
   ]
  },
  {
   "cell_type": "code",
   "execution_count": 17,
   "id": "62c82879",
   "metadata": {},
   "outputs": [
    {
     "name": "stdout",
     "output_type": "stream",
     "text": [
      "[1, 2, 3]\n",
      "[1, 2, 4]\n",
      "[1, 2, 3]\n"
     ]
    }
   ],
   "source": [
    "list_1=[1,2,3,4]\n",
    "del list_1[3]\n",
    "print(list_1) \n",
    "\n",
    "list_1=[1,2,3,4]\n",
    "list_1.remove(3)\n",
    "print(list_1)   \n",
    "\n",
    "list_1=[1,2,3,4]\n",
    "list_1.pop(3)\n",
    "print(list_1)   "
   ]
  },
  {
   "cell_type": "markdown",
   "id": "da84d948",
   "metadata": {},
   "source": [
    "### 12. Describe how list values and string values are identical.\n",
    "\n",
    "Ans:-\n",
    "Both lists and strings are sequential collections, meaning they can store multiple elements in a specific order.\n",
    "\n",
    "we can access individual elements in both lists and strings using indexing and slicing.\n",
    "\n",
    "we can iterate over the elements of both lists and strings using for loops.\n",
    "\n",
    "len() function can also be used in both string and list.\n",
    "\n",
    "Both lists and strings support concatenation and replication."
   ]
  },
  {
   "cell_type": "markdown",
   "id": "5524036e",
   "metadata": {},
   "source": [
    "### 13. What's the difference between tuples and lists?\n",
    "\n",
    "Ans:- Tuple is immutable i.e we cannot change or replace or add any value in tuple, whereas in list we can add or remove or change values(elements) therefore list is mutable.\n",
    "\n",
    "Lists are defined using square brackets []\n",
    "Tuples are defined using parentheses ()"
   ]
  },
  {
   "cell_type": "markdown",
   "id": "19f2b4bc",
   "metadata": {},
   "source": [
    "### 14. How do you type a tuple value that only contains the integer 42?\n",
    "\n",
    "Ans:- tuple=(42,)"
   ]
  },
  {
   "cell_type": "markdown",
   "id": "ae06f185",
   "metadata": {},
   "source": [
    "### 15. How do you get a list value's tuple form? How do you get a tuple value's list form?\n",
    "\n",
    "Ans:-To get a list value's tuple form wecan use the tuple() constructor. To get a tuple value's list form we can use the list() constructor."
   ]
  },
  {
   "cell_type": "markdown",
   "id": "6a6b20d6",
   "metadata": {},
   "source": [
    "### 16. Variables that \"contain\" list values are not necessarily lists themselves. Instead, what do they contain?\n",
    "\n",
    "Ans:- They contain reference to list values(elements)."
   ]
  },
  {
   "cell_type": "markdown",
   "id": "c82f5973",
   "metadata": {},
   "source": [
    "### 17. How do you distinguish between copy.copy() and copy.deepcopy()?\n",
    "\n",
    "Ans:- copy.copy() creates a shallow copy of an list(object).A shallow copy means it creates a new list(object) but it only copies the top-level elements of the original list(object).\n",
    "\n",
    "whereas copy.deepcopy() creates a deep copy of an list(object).A deep copy means it creates a new list(object) and recursively copies all the elements.\n",
    "\n"
   ]
  },
  {
   "cell_type": "code",
   "execution_count": null,
   "id": "670f5ef9",
   "metadata": {},
   "outputs": [],
   "source": []
  }
 ],
 "metadata": {
  "kernelspec": {
   "display_name": "Python 3 (ipykernel)",
   "language": "python",
   "name": "python3"
  },
  "language_info": {
   "codemirror_mode": {
    "name": "ipython",
    "version": 3
   },
   "file_extension": ".py",
   "mimetype": "text/x-python",
   "name": "python",
   "nbconvert_exporter": "python",
   "pygments_lexer": "ipython3",
   "version": "3.9.13"
  }
 },
 "nbformat": 4,
 "nbformat_minor": 5
}
