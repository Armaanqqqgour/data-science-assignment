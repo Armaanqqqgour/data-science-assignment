{
 "cells": [
  {
   "cell_type": "markdown",
   "id": "2981fd50",
   "metadata": {},
   "source": [
    "### 1. Explain what inheritance is in object-oriented programming and why it is used."
   ]
  },
  {
   "cell_type": "markdown",
   "id": "8ca14a34",
   "metadata": {},
   "source": [
    "Ans:- \n",
    "Inheritance is a concept in object-oriented programming where a class (let’s call it Child class) can inherit properties and methods from another class (let’s call it Parent class).\n",
    "\n",
    "A Child class can inherit variables and functions from the Parent class. For example a child can inherit characteristics from their parents, like hair color or height.\n",
    "\n",
    "The inheritance concept is used in object-oriented programming because,\n",
    "\n",
    "Reuse of Code: Once a method is defined in a Parent class, we can use it in any Child class, saving us from writing the same code again and again.\n",
    "\n",
    "Organization and Structure: It helps in organizing the code better. We can create a general Parent class first and then extend it to more specific Child classes.\n",
    "\n",
    "Easy Maintenance: If we need to make a change in a method, we only need to make the change in one place (the Parent class), and all Child classes will get the updated method."
   ]
  },
  {
   "cell_type": "code",
   "execution_count": 6,
   "id": "3a6e7161",
   "metadata": {},
   "outputs": [
    {
     "name": "stdout",
     "output_type": "stream",
     "text": [
      "Woof!\n",
      "Meow!\n"
     ]
    }
   ],
   "source": [
    "class Animal:  # Parent class\n",
    "    def __init__(self, name):\n",
    "        self.name = name\n",
    "\n",
    "    def speak(self):\n",
    "        pass\n",
    "\n",
    "class Dog(Animal):  # Child class\n",
    "    def speak(self):\n",
    "        return \"Woof!\"\n",
    "\n",
    "class Cat(Animal):  # Child class\n",
    "    def speak(self):\n",
    "        return \"Meow!\"\n",
    "\n",
    "dog = Dog(\"Rover\")\n",
    "cat = Cat(\"Fluffy\")\n",
    "\n",
    "print(dog.speak()) \n",
    "print(cat.speak())  \n",
    "\n"
   ]
  },
  {
   "cell_type": "markdown",
   "id": "1f209af9",
   "metadata": {},
   "source": [
    "In this example, Dog and Cat are subclasses of Animal. They inherit the name attribute and speak method from Animal, but they provide different implementations of speak. This is a demonstration of code reusability and extensibility."
   ]
  },
  {
   "cell_type": "markdown",
   "id": "0064987c",
   "metadata": {},
   "source": [
    "### 2. Discuss the concept of single inheritance and multiple inheritance, highlighting their differences and advantages."
   ]
  },
  {
   "cell_type": "markdown",
   "id": "8f76a4e3",
   "metadata": {},
   "source": [
    "Ans:-\n",
    "- Single inheritance is a concept where a class (derived or child class) inherits from a single base class (parent or superclass). The derived class can access the features of the base class based on the access specifier.\n",
    "\n",
    "\n",
    "- Advantages of Single Inheritance:\n",
    "\n",
    "1) Code Reusability: The derived class can reuse the code from the base class, reducing duplication.\n",
    "\n",
    "2) Code Organization: It promotes code organization by maintaining a hierarchical structure.\n",
    "\n",
    "3) Efficiency: Single inheritance requires a small runtime due to less overhead.\n",
    "\n",
    "\n",
    "\n",
    "- Multiple inheritance is a concept where a class inherits from more than one base class. This allows the derived class to use the combined features of the inherited base classes.\n",
    "\n",
    "\n",
    "- Advantages of Multiple Inheritance:\n",
    "\n",
    "1) Code Reuse from Different Sources: Multiple inheritance enables code reuse from different base classes, promoting flexibility.\n",
    "\n",
    "2) Supports Complex Class Relationships: It supports complex class relationships, which can be beneficial in certain programming scenarios.\n",
    "\n",
    "- Differences between Single and Multiple Inheritance:\n",
    "\n",
    "1) In single inheritance, the derived class inherits from a single base class. In multiple inheritance, the derived class inherits from two or more base classes.\n",
    "\n",
    "2) Single inheritance promotes a clear hierarchy structure, making it suitable for scenarios with a straightforward relationship between classes. Multiple inheritance offers more flexibility but requires careful design to avoid issues like the diamond problem.\n",
    "\n",
    "3) Single inheritance requires a smaller runtime compared to multiple inheritance due to less overhead"
   ]
  },
  {
   "cell_type": "markdown",
   "id": "e0e45937",
   "metadata": {},
   "source": [
    "### 3. Explain the terms \"base class\" and \"derived class\" in the context of inheritance."
   ]
  },
  {
   "cell_type": "markdown",
   "id": "0221fa22",
   "metadata": {},
   "source": [
    "Ans:\n",
    "\n",
    "Base Class: The base class, also known as the parent class or superclass, is the class being inherited from. It’s the class that provides properties (like variables) and methods (like functions) that can be used by the derived class. In other words, it’s the class that gives away its features to another class.\n",
    "\n",
    "Derived Class: The derived class, also known as the child class or subclass, is the class that inherits from the base class. It can use all the public and protected properties and methods of the base class. Additionally, it can also add new properties and methods or override the ones inherited from the base class. In other words, it’s the class that receives and uses features from another class."
   ]
  },
  {
   "cell_type": "code",
   "execution_count": 9,
   "id": "52caa31d",
   "metadata": {},
   "outputs": [
    {
     "name": "stdout",
     "output_type": "stream",
     "text": [
      "The engine of My Car is started\n",
      "The trunk of My Car is opened\n",
      "The engine of My Boat is started\n",
      "My Boat is anchored\n"
     ]
    }
   ],
   "source": [
    "class Vehicle:  # This is the base class\n",
    "    def __init__(self, name):\n",
    "        self.name = name\n",
    "\n",
    "    def start_engine(self):\n",
    "        print(f\"The engine of {self.name} is started\")\n",
    "\n",
    "class Car(Vehicle):  # This is the derived class\n",
    "    def open_trunk(self):\n",
    "        print(f\"The trunk of {self.name} is opened\")\n",
    "\n",
    "class Boat(Vehicle):  # This is another derived class\n",
    "    def anchor(self):\n",
    "        print(f\"{self.name} is anchored\")\n",
    "        \n",
    "        \n",
    "my_car = Car(\"My Car\")\n",
    "my_car.start_engine() \n",
    "my_car.open_trunk() \n",
    "\n",
    "my_boat = Boat(\"My Boat\")\n",
    "my_boat.start_engine()  \n",
    "my_boat.anchor()  "
   ]
  },
  {
   "cell_type": "markdown",
   "id": "9c1dd7b3",
   "metadata": {},
   "source": [
    "In this example, Vehicle is the base class and Car and Boat are derived classes. The Car class inherits the start_engine method from the Vehicle class and adds a new method open_trunk. The Boat class also inherits the start_engine method from the Vehicle class and adds a new method anchor."
   ]
  },
  {
   "cell_type": "markdown",
   "id": "6bffe758",
   "metadata": {},
   "source": [
    "### 4. What is the significance of the \"protected\" access modifier in inheritance? How does it differ from \"private\" and \"public\" modifiers?"
   ]
  },
  {
   "cell_type": "markdown",
   "id": "d5dfa168",
   "metadata": {},
   "source": [
    "Ans:-\n",
    "\n",
    "In object-oriented programming, access modifiers are used to set the accessibility of classes, methods, and variables. The three most common access modifiers are public, private, and protected.\n",
    "\n",
    "- Public: This is the least restrictive access modifier. If a class, method, or variable is declared as public, it can be accessed from anywhere.\n",
    "\n",
    "- Private: This is the most restrictive access modifier. If a class, method, or variable is declared as private, it can only be accessed within the class it is defined. It is not accessible from outside the class or from subclasses.\n",
    "\n",
    "- Protected: This access modifier strikes a balance between public and private. If a class, method, or variable is declared as protected, it cannot be accessed from outside the class, but it can be accessed in inherited classes or derived classes. This facilitates the concept of controlled inheritance and extends visibility to specific classes."
   ]
  },
  {
   "cell_type": "code",
   "execution_count": 2,
   "id": "06e74e7c",
   "metadata": {},
   "outputs": [
    {
     "name": "stdout",
     "output_type": "stream",
     "text": [
      "I'm public!\n",
      "I'm protected!\n",
      "I'm private!\n"
     ]
    },
    {
     "ename": "AttributeError",
     "evalue": "'MyClass' object has no attribute '__private_var'",
     "output_type": "error",
     "traceback": [
      "\u001b[1;31m---------------------------------------------------------------------------\u001b[0m",
      "\u001b[1;31mAttributeError\u001b[0m                            Traceback (most recent call last)",
      "\u001b[1;32m~\\AppData\\Local\\Temp\\ipykernel_20544\\1664136573.py\u001b[0m in \u001b[0;36m<module>\u001b[1;34m\u001b[0m\n\u001b[0;32m     26\u001b[0m \u001b[1;33m\u001b[0m\u001b[0m\n\u001b[0;32m     27\u001b[0m \u001b[1;31m# Directly accessing private variable\u001b[0m\u001b[1;33m\u001b[0m\u001b[1;33m\u001b[0m\u001b[0m\n\u001b[1;32m---> 28\u001b[1;33m \u001b[0mprint\u001b[0m\u001b[1;33m(\u001b[0m\u001b[0mobj\u001b[0m\u001b[1;33m.\u001b[0m\u001b[0m__private_var\u001b[0m\u001b[1;33m)\u001b[0m  \u001b[1;31m# This will raise an AttributeError\u001b[0m\u001b[1;33m\u001b[0m\u001b[1;33m\u001b[0m\u001b[0m\n\u001b[0m",
      "\u001b[1;31mAttributeError\u001b[0m: 'MyClass' object has no attribute '__private_var'"
     ]
    }
   ],
   "source": [
    "class MyClass:\n",
    "    def __init__(self):\n",
    "        self.public_var = \"I'm public!\"\n",
    "        self._protected_var = \"I'm protected!\"\n",
    "        self.__private_var = \"I'm private!\"\n",
    "\n",
    "    def access_private_var(self):\n",
    "        return self.__private_var\n",
    "\n",
    "class DerivedClass(MyClass):\n",
    "    def access_protected_var(self):\n",
    "        return self._protected_var\n",
    "\n",
    "# Create an object of MyClass\n",
    "obj = MyClass()\n",
    "\n",
    "# Accessing public variable\n",
    "print(obj.public_var)  \n",
    "\n",
    "# Accessing protected variable from derived class\n",
    "obj2 = DerivedClass()\n",
    "print(obj2.access_protected_var()) \n",
    "\n",
    "# Accessing private variable\n",
    "print(obj.access_private_var())  \n",
    "\n",
    "# Directly accessing private variable\n",
    "print(obj.__private_var)  # This will raise an AttributeError\n"
   ]
  },
  {
   "cell_type": "markdown",
   "id": "95d34d76",
   "metadata": {},
   "source": [
    "In this code:\n",
    "\n",
    "- public_var is a public member, so it can be accessed directly from an object of MyClass.\n",
    "- _protected_var is a protected member (denoted by a single underscore), so it can be accessed within the class and its subclasses. Here, DerivedClass is a subclass of MyClass, and it can access _protected_var.\n",
    "- __private_var is a private member (denoted by double underscores), so it can only be accessed within the class. Here, access_private_var is a method within MyClass that returns the value of __private_var. If you try to access __private_var directly from an object of MyClass, it will raise an AttributeError."
   ]
  },
  {
   "cell_type": "markdown",
   "id": "05d27d84",
   "metadata": {},
   "source": [
    "### 5. What is the purpose of the \"super\" keyword in inheritance? Provide an example."
   ]
  },
  {
   "cell_type": "markdown",
   "id": "70d3c299",
   "metadata": {},
   "source": [
    "Ans:- The super() function is used to call methods from the parent or superclass. This is particularly useful in inheritance where a subclass wants to extend or customize the functionality inherited from the parent class.\n",
    "\n",
    "The super() function allows you to avoid hardcoding the parent class name when calling its methods, which can be especially handy in cases of multiple inheritance1. This promotes code reusability and modularity."
   ]
  },
  {
   "cell_type": "code",
   "execution_count": 10,
   "id": "b451fea8",
   "metadata": {},
   "outputs": [
    {
     "name": "stdout",
     "output_type": "stream",
     "text": [
      "The ID is: 105\n",
      "The Name is: Akash gupta\n",
      "The Address is: Nagpur\n",
      "The email is: A.K@gmails.com\n"
     ]
    }
   ],
   "source": [
    "class Emp:\n",
    "    def __init__(self, id, name, Add):\n",
    "        self.id = id\n",
    "        self.name = name\n",
    "        self.Add = Add\n",
    "\n",
    "    def display_info(self):\n",
    "        print(f\"The ID is: {self.id}\")\n",
    "        print(f\"The Name is: {self.name}\")\n",
    "        print(f\"The Address is: {self.Add}\")\n",
    "\n",
    "class Freelance(Emp):\n",
    "    def __init__(self, id, name, Add, Emails):\n",
    "        super().__init__(id, name, Add)\n",
    "        self.Emails = Emails\n",
    "        \n",
    "    def display_info(self):\n",
    "        super().display_info()\n",
    "        print(f\"The email is: {self.Emails}\")\n",
    "\n",
    "Emp_1 = Freelance(105, \"Akash gupta\", \"Nagpur\" , \"A.K@gmails.com\")\n",
    "Emp_1.display_info()\n",
    "\n"
   ]
  },
  {
   "cell_type": "code",
   "execution_count": 8,
   "id": "33b1fea5",
   "metadata": {},
   "outputs": [
    {
     "name": "stdout",
     "output_type": "stream",
     "text": [
      "Name is :Armaan\n",
      "Subject is: Statistics\n"
     ]
    }
   ],
   "source": [
    "class person:\n",
    "    def __init__(self,name):\n",
    "        self.name=name\n",
    "        \n",
    "    def display_info(self):\n",
    "        print(f\"Name is :{self.name}\")\n",
    "\n",
    "\n",
    "class teacher(person):\n",
    "    def __init__(self,name,subject):\n",
    "        super().__init__(name)\n",
    "        self.subject=subject  \n",
    "        \n",
    "    def display_info(self):\n",
    "        super().display_info()\n",
    "        print(f\"Subject is: {self.subject}\")\n",
    "            \n",
    "teacher1=teacher(\"Armaan\",\"Statistics\")\n",
    "teacher1.display_info()"
   ]
  },
  {
   "cell_type": "markdown",
   "id": "5b901213",
   "metadata": {},
   "source": [
    "### 6. Create a base class called \"Vehicle\" with attributes like \"make\", \"model\", and \"year\". Then, create a derived class called \"Car\" that inherits from \"Vehicle\" and adds an attribute called \"fuel_type\". Implement appropriate methods in both classes."
   ]
  },
  {
   "cell_type": "code",
   "execution_count": 1,
   "id": "ac554b54",
   "metadata": {},
   "outputs": [],
   "source": [
    "class Vehicle:\n",
    "    def __init__(self, make, model, year):\n",
    "        self.make = make\n",
    "        self.model = model\n",
    "        self.year = year\n",
    "\n",
    "    def get_details(self):\n",
    "        return f\"Make: {self.make}, Model: {self.model}, Year: {self.year}\"\n",
    "\n",
    "class Car(Vehicle):\n",
    "    def __init__(self, make, model, year, fuel_type):\n",
    "        super().__init__(make, model, year)\n",
    "        self.fuel_type = fuel_type\n",
    "\n",
    "    def get_details(self):\n",
    "        return f\"{super().get_details()}, Fuel Type: {self.fuel_type}\"\n"
   ]
  },
  {
   "cell_type": "code",
   "execution_count": 2,
   "id": "6b1a1ebc",
   "metadata": {},
   "outputs": [
    {
     "name": "stdout",
     "output_type": "stream",
     "text": [
      "Make: Tesla, Model: Model S, Year: 2022, Fuel Type: Electric\n"
     ]
    }
   ],
   "source": [
    "car = Car(\"Tesla\", \"Model S\", 2022, \"Electric\")\n",
    "print(car.get_details())"
   ]
  },
  {
   "cell_type": "markdown",
   "id": "03cc18b4",
   "metadata": {},
   "source": [
    "In this code:\n",
    "\n",
    "- Vehicle is the base class with attributes make, model, and year. It has a method get_details() that returns a string with these details.\n",
    "- Car is a derived class that inherits from Vehicle and adds an attribute fuel_type. It also overrides the get_details() method to include the fuel_type in the returned string."
   ]
  },
  {
   "cell_type": "markdown",
   "id": "dee4c0e4",
   "metadata": {},
   "source": [
    "### 7. Create a base class called \"Employee\" with attributes like \"name\" and \"salary.\" Derive two classes, \"Manager\" and \"Developer,\" from \"Employee.\" Add an additional attribute called \"department\" for the \"Manager\" class and \"programming_language\" for the \"Developer\" class."
   ]
  },
  {
   "cell_type": "code",
   "execution_count": 9,
   "id": "abd8bb2a",
   "metadata": {},
   "outputs": [],
   "source": [
    "class Employee:\n",
    "    def __init__(self,name,salary):\n",
    "        self.name=name\n",
    "        self.salary=salary\n",
    "\n",
    "    def get_details(self):\n",
    "        return f\"Name: {self.name}, Salary: {self.salary}\"\n",
    "\n",
    "class Manager(Employee):\n",
    "    def __init__(self, name, salary, department):\n",
    "        super().__init__(name, salary)\n",
    "        self.department = department\n",
    "\n",
    "    def get_details(self):\n",
    "        return f\"{super().get_details()}, Department: {self.department}\"\n",
    "\n",
    "class Developer(Employee):\n",
    "    def __init__(self, name, salary, programming_language):\n",
    "        super().__init__(name, salary)\n",
    "        self.programming_language = programming_language\n",
    "\n",
    "    def get_details(self):\n",
    "        return f\"{super().get_details()}, Programming Language: {self.programming_language}\"\n",
    "\n",
    "        "
   ]
  },
  {
   "cell_type": "code",
   "execution_count": 11,
   "id": "0ce378b5",
   "metadata": {},
   "outputs": [
    {
     "name": "stdout",
     "output_type": "stream",
     "text": [
      "Name: Vishwas, Salary: 100000, Department: Sales\n",
      "Name: Bhavesh, Salary: 80000, Programming Language: Python\n"
     ]
    }
   ],
   "source": [
    "manager = Manager(\"Vishwas\", 100000, \"Sales\")\n",
    "print(manager.get_details())\n",
    "\n",
    "developer = Developer(\"Bhavesh\", 80000, \"Python\")\n",
    "print(developer.get_details())"
   ]
  },
  {
   "cell_type": "markdown",
   "id": "b9af5df4",
   "metadata": {},
   "source": [
    "In this code:\n",
    "\n",
    "- Employee is the base class with attributes name and salary. It has a method get_details() that returns a string with these details.\n",
    "\n",
    "- Manager is a derived class that inherits from Employee and adds an attribute department. It also overrides the get_details() method to include the department in the returned string.\n",
    "\n",
    "- Developer is another derived class that inherits from Employee and adds an attribute programming_language. It also overrides the get_details() method to include the programming_language in the returned string."
   ]
  },
  {
   "cell_type": "markdown",
   "id": "365beb14",
   "metadata": {},
   "source": [
    "### 8. Design a base class called \"Shape\" with attributes like \"colour\" and \"border_width.\" Create derived classes, \"Rectangle\" and \"Circle,\" that inherit from \"Shape\" and add specific attributes like \"length\" and \"width\" for the \"Rectangle\" class and \"radius\" for the \"Circle\" class."
   ]
  },
  {
   "cell_type": "code",
   "execution_count": 20,
   "id": "160dbc5b",
   "metadata": {},
   "outputs": [
    {
     "name": "stdout",
     "output_type": "stream",
     "text": [
      "60\n",
      "113.04\n"
     ]
    }
   ],
   "source": [
    "class Shape:\n",
    "    def __init__(self,colour,border_width):\n",
    "        self.colour=colour\n",
    "        self.border_width=border_width\n",
    "        \n",
    "    \n",
    "class Rectangle(Shape):\n",
    "    def __init__(self,colour,border_width,length,width):\n",
    "        super().__init__(colour,border_width)\n",
    "        self.length=length\n",
    "        self.width=width\n",
    "        \n",
    "    def get_area(self):\n",
    "        return self.length * self.width\n",
    "    \n",
    "class circle(Shape):\n",
    "    def __init__(self,colour,border_width,radius):\n",
    "        super().__init(colour,border_width)\n",
    "        self.radius=radius\n",
    "    \n",
    "    def get_area(self):\n",
    "        return 3.14 * (self.radius ** 2)\n",
    "    \n",
    "rectangle = Rectangle(\"red\", 2, 6, 10)\n",
    "print(rectangle.get_area())\n",
    "\n",
    "circle = Circle(\"blue\", 1, 6)\n",
    "print(circle.get_area())\n",
    "    "
   ]
  },
  {
   "cell_type": "markdown",
   "id": "27239cb3",
   "metadata": {},
   "source": [
    "In this code:\n",
    "\n",
    "- Shape is the base class with attributes colour and border_width.\n",
    "- Rectangle is a derived class that inherits from Shape and adds attributes length and width. It also has a method get_area() that returns the area of the rectangle.\n",
    "- Circle is another derived class that inherits from Shape and adds an attribute radius. It also has a method get_area() that returns the area of the circle.\n",
    "    "
   ]
  },
  {
   "cell_type": "markdown",
   "id": "c38c27cb",
   "metadata": {},
   "source": [
    "### 9. Create a base class called \"Device\" with attributes like \"brand\" and \"model.\" Derive two classes, \"Phone\" and \"Tablet,\" from \"Device.\" Add specific attributes like \"screen_size\" for the \"Phone\" class and \"battery_capacity\" for the \"Tablet\" class."
   ]
  },
  {
   "cell_type": "code",
   "execution_count": 28,
   "id": "04278304",
   "metadata": {},
   "outputs": [
    {
     "name": "stdout",
     "output_type": "stream",
     "text": [
      "brand:Apple, model: iPhone 13, screen_size: 6.1\n",
      "brand:Samsung, model: Galaxy Tab S7, battery_capacity: 8000\n"
     ]
    }
   ],
   "source": [
    "class Device():\n",
    "    def __init__(self,brand,model):\n",
    "        self.brand=brand\n",
    "        self.model=model\n",
    "        \n",
    "class Phone(Device):\n",
    "    def __init__(self,brand,model,screen_size):\n",
    "        super().__init__(brand,model)\n",
    "        self.screen_size=screen_size\n",
    "        \n",
    "    def device_info(self):\n",
    "        return f\"brand:{self.brand}, model: {self.model}, screen_size: {self.screen_size}\"\n",
    "        \n",
    "class Tablet(Device):\n",
    "    def __init__(self,brand,model,battery_capacity):\n",
    "        super().__init__(brand,model)\n",
    "        self.battery_capacity=battery_capacity\n",
    "        \n",
    "    def device_info(self):\n",
    "        return f\"brand:{self.brand}, model: {self.model}, battery_capacity: {self.battery_capacity}\"\n",
    "        \n",
    "    \n",
    "Phone = Phone(\"Apple\", \"iPhone 13\", 6.1)\n",
    "print(Phone.device_info())\n",
    "Tablet = Tablet(\"Samsung\", \"Galaxy Tab S7\", 8000)\n",
    "print(Tablet.device_info())"
   ]
  },
  {
   "cell_type": "markdown",
   "id": "0a46b8d0",
   "metadata": {},
   "source": [
    "In this code:\n",
    "\n",
    "- Device is the base class with attributes brand and model.\n",
    "- Phone is a derived class that inherits from Device and adds an attribute screen_size.\n",
    "- Tablet is another derived class that inherits from Device and adds an attribute battery_capacity."
   ]
  },
  {
   "cell_type": "markdown",
   "id": "7eafe74c",
   "metadata": {},
   "source": [
    "### 10. Create a base class called \"BankAccount\" with attributes like \"account_number\" and \"balance.\" Derive two classes, \"SavingsAccount\" and \"CheckingAccount,\" from \"BankAccount.\" Add specific methods like \"calculate_interest\" for the \"SavingsAccount\" class and \"deduct_fees\" for the \"CheckingAccount\" class."
   ]
  },
  {
   "cell_type": "code",
   "execution_count": 34,
   "id": "e5b8ac35",
   "metadata": {},
   "outputs": [
    {
     "name": "stdout",
     "output_type": "stream",
     "text": [
      "500.0\n",
      "19987\n"
     ]
    }
   ],
   "source": [
    "class BankAccount():\n",
    "    def __init__(self,account_number,balance):\n",
    "        self.account_number=account_number\n",
    "        self.balance=balance\n",
    "        \n",
    "class SavingAccount(BankAccount):\n",
    "    def __init__(self,account_number,balance,interest_rate):\n",
    "        super().__init__(account_number,balance)\n",
    "        self.interest_rate=interest_rate\n",
    "        \n",
    "    def calculate_interest(self):\n",
    "        return self.balance * self.interest_rate\n",
    "    \n",
    "class CheckingAccount(BankAccount):\n",
    "    def __init__(self,account_number,balance,fees):\n",
    "        super().__init__(account_number,balance)\n",
    "        self.fees=fees\n",
    "        \n",
    "    def deduct_fees(self):\n",
    "        self.balance -= self.fees\n",
    "        return self.balance\n",
    "    \n",
    "    \n",
    "    \n",
    "Savings_account = SavingAccount(\"12345586\", 10000, 0.05)\n",
    "print(Savings_account.calculate_interest())\n",
    "\n",
    "Checking_account = CheckingAccount(\"65447321\", 20000, 13)\n",
    "print(Checking_account.deduct_fees())   \n"
   ]
  },
  {
   "cell_type": "markdown",
   "id": "cd4d6128",
   "metadata": {},
   "source": [
    "In this code:\n",
    "\n",
    "- BankAccount is the base class with attributes account_number and balance.\n",
    "- SavingsAccount is a derived class that inherits from BankAccount and adds an attribute interest_rate. It also has a method calculate_interest() that returns the interest calculated on the balance.\n",
    "- CheckingAccount is another derived class that inherits from BankAccount and adds an attribute fees. It also has a method deduct_fees() that deducts the fees from the balance and returns the updated balance."
   ]
  },
  {
   "cell_type": "code",
   "execution_count": null,
   "id": "7735f37d",
   "metadata": {},
   "outputs": [],
   "source": []
  }
 ],
 "metadata": {
  "kernelspec": {
   "display_name": "Python 3 (ipykernel)",
   "language": "python",
   "name": "python3"
  },
  "language_info": {
   "codemirror_mode": {
    "name": "ipython",
    "version": 3
   },
   "file_extension": ".py",
   "mimetype": "text/x-python",
   "name": "python",
   "nbconvert_exporter": "python",
   "pygments_lexer": "ipython3",
   "version": "3.9.13"
  }
 },
 "nbformat": 4,
 "nbformat_minor": 5
}
