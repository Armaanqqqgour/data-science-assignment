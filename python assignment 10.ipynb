{
 "cells": [
  {
   "cell_type": "markdown",
   "id": "1991b545",
   "metadata": {},
   "source": [
    "### 1. What is the role of try and exception block?\n",
    "\n",
    "Ans:- The role of try and exceptiob block is handle errors.The try and except block can help you avoid crashing your program when an exception occurs.For example:- if you try to divide a number by zero, you will get a ZeroDivisionError exception."
   ]
  },
  {
   "cell_type": "code",
   "execution_count": 1,
   "id": "3430d462",
   "metadata": {
    "scrolled": true
   },
   "outputs": [
    {
     "name": "stdout",
     "output_type": "stream",
     "text": [
      "insufficient memory for the list\n"
     ]
    }
   ],
   "source": [
    "try:\n",
    "    big_list=[1]*(10**12) \n",
    "    \n",
    "except MemoryError:\n",
    "    print(\"insufficient memory for the list\")"
   ]
  },
  {
   "cell_type": "markdown",
   "id": "95c82fa3",
   "metadata": {},
   "source": [
    "### 2. What is the syntax for a basic try-except block?\n",
    "\n",
    "Ans:- The syntax for a basic try-except block is given as\n",
    "\n",
    " try:\n",
    " \n",
    "    # Code that may raise an exception\n",
    "\n",
    "except ExceptionType:\n",
    "\n",
    "    # Code to handle the exception\n",
    "    \n",
    "as we can se in above example of division in that we give the code that we want to run in try block if that code shows an error an error then raise an exception.\n",
    "   "
   ]
  },
  {
   "cell_type": "markdown",
   "id": "5ee0be6b",
   "metadata": {},
   "source": [
    "### 3. What happens if an exception occurs inside a try block and there is no matching except block?\n",
    "\n",
    "Ans:- If an exception occurs inside a try block and there is no matching except block, then the exception is not handled by the program and it propagates to the outer scope. This means that the program will terminate with an error message."
   ]
  },
  {
   "cell_type": "code",
   "execution_count": 2,
   "id": "75600e97",
   "metadata": {},
   "outputs": [
    {
     "name": "stdout",
     "output_type": "stream",
     "text": [
      "Please enter the numerator: 8\n",
      "Please enter the denominator: 0\n"
     ]
    },
    {
     "ename": "ZeroDivisionError",
     "evalue": "division by zero",
     "output_type": "error",
     "traceback": [
      "\u001b[1;31m---------------------------------------------------------------------------\u001b[0m",
      "\u001b[1;31mZeroDivisionError\u001b[0m                         Traceback (most recent call last)",
      "\u001b[1;32m~\\AppData\\Local\\Temp\\ipykernel_19188\\2952729329.py\u001b[0m in \u001b[0;36m<module>\u001b[1;34m\u001b[0m\n\u001b[0;32m      3\u001b[0m     \u001b[0md\u001b[0m \u001b[1;33m=\u001b[0m \u001b[0mint\u001b[0m\u001b[1;33m(\u001b[0m\u001b[0minput\u001b[0m\u001b[1;33m(\u001b[0m\u001b[1;34m\"Please enter the denominator: \"\u001b[0m\u001b[1;33m)\u001b[0m\u001b[1;33m)\u001b[0m\u001b[1;33m\u001b[0m\u001b[1;33m\u001b[0m\u001b[0m\n\u001b[0;32m      4\u001b[0m \u001b[1;33m\u001b[0m\u001b[0m\n\u001b[1;32m----> 5\u001b[1;33m     \u001b[0mresult\u001b[0m \u001b[1;33m=\u001b[0m \u001b[0mn\u001b[0m \u001b[1;33m/\u001b[0m \u001b[0md\u001b[0m\u001b[1;33m\u001b[0m\u001b[1;33m\u001b[0m\u001b[0m\n\u001b[0m\u001b[0;32m      6\u001b[0m \u001b[1;33m\u001b[0m\u001b[0m\n\u001b[0;32m      7\u001b[0m     \u001b[0mprint\u001b[0m\u001b[1;33m(\u001b[0m\u001b[1;34m\"Result:\"\u001b[0m\u001b[1;33m,\u001b[0m \u001b[0mresult\u001b[0m\u001b[1;33m)\u001b[0m\u001b[1;33m\u001b[0m\u001b[1;33m\u001b[0m\u001b[0m\n",
      "\u001b[1;31mZeroDivisionError\u001b[0m: division by zero"
     ]
    }
   ],
   "source": [
    "try:\n",
    "    n = int(input(\"Please enter the numerator: \"))\n",
    "    d = int(input(\"Please enter the denominator: \"))\n",
    "\n",
    "    result = n / d\n",
    "\n",
    "    print(\"Result:\", result)\n",
    "    \n",
    "except ValueError:\n",
    "    print(\"you have divided the number with zero\")"
   ]
  },
  {
   "cell_type": "markdown",
   "id": "da05f5fb",
   "metadata": {},
   "source": [
    "In this example, the exception raised is a ZeroDivisionError, but the except block specifies ValueError. Since there is no matching except ZeroDivisionError block, it will terminate with an unhandled exception message of ZeroDivisionError."
   ]
  },
  {
   "cell_type": "markdown",
   "id": "40e3e101",
   "metadata": {},
   "source": [
    "### 4. What is the difference between using a bare except block and specifying a specific exception type?\n",
    "\n",
    "Ans:- A bare except block catches any exception that occurs within the corresponding try block. It doesn't specify a particular exception type to catch. While this can be used to catch and handle any exception. it is not generally used because it can hide errors, make debugging difficult.\n",
    "\n",
    "Using a specific exception type in the except block allows you to catch and handle only the specified type of exception. This is more precise and recommended because it enables you to handle different exceptions differently and provides better error reporting and debugging."
   ]
  },
  {
   "cell_type": "code",
   "execution_count": 3,
   "id": "503c107b",
   "metadata": {},
   "outputs": [
    {
     "name": "stdout",
     "output_type": "stream",
     "text": [
      "An error occurred\n"
     ]
    }
   ],
   "source": [
    "try:\n",
    "    x = 10 / 0\n",
    "except:\n",
    "    print(\"An error occurred\")\n"
   ]
  },
  {
   "cell_type": "code",
   "execution_count": 4,
   "id": "2f44c168",
   "metadata": {},
   "outputs": [
    {
     "name": "stdout",
     "output_type": "stream",
     "text": [
      "not a valid integer\n"
     ]
    }
   ],
   "source": [
    "try:\n",
    "    x = int(\"abc\")\n",
    "except ValueError:\n",
    "    print(\"not a valid integer\")\n"
   ]
  },
  {
   "cell_type": "markdown",
   "id": "c4a76e07",
   "metadata": {},
   "source": [
    "### 5. Can you have nested try-except blocks in Python? If yes, then give an example.\n",
    "\n",
    "Ans:-  Yes, we can have nested try-except blocks in Python. This means that you can put a try-except block inside another try-except block,and each try block can have its own corresponding except blocks"
   ]
  },
  {
   "cell_type": "code",
   "execution_count": 5,
   "id": "eba95c55",
   "metadata": {},
   "outputs": [
    {
     "name": "stdout",
     "output_type": "stream",
     "text": [
      "Enter an outer number: a\n",
      "Please enter a valid number.\n"
     ]
    }
   ],
   "source": [
    "try:\n",
    "    n = int(input(\"Enter an outer number: \"))\n",
    "    try:\n",
    "        d = int(input(\"Enter an inner number: \"))\n",
    "        \n",
    "        result = n / d\n",
    "        \n",
    "        print(\"Result:\", result)\n",
    "        \n",
    "    except ZeroDivisionError:\n",
    "        print(\"Inner number cannot be zero.\")\n",
    "        \n",
    "except ValueError:\n",
    "    print(\"Please enter a valid number.\")\n"
   ]
  },
  {
   "cell_type": "markdown",
   "id": "bd4db05b",
   "metadata": {},
   "source": [
    "### 6. Can we use multiple exception blocks, if yes then give an example.\n",
    "\n",
    "Ans:- Yes we can use multiple exception block."
   ]
  },
  {
   "cell_type": "code",
   "execution_count": 6,
   "id": "ed32b8ae",
   "metadata": {},
   "outputs": [
    {
     "name": "stdout",
     "output_type": "stream",
     "text": [
      "Please enter the numerator: 7\n",
      "Please enter the denominator: 0\n",
      "you have divided the number with zero\n"
     ]
    }
   ],
   "source": [
    "try:\n",
    "    n = int(input(\"Please enter the numerator: \"))\n",
    "    d = int(input(\"Please enter the denominator: \"))\n",
    "\n",
    "    result = n / d\n",
    "\n",
    "    print(\"Result:\", result)\n",
    "    \n",
    "except ZeroDivisionError:\n",
    "    print(\"you have divided the number with zero\")\n",
    "    \n",
    "except ValueError:\n",
    "    print(\"Please enter a valid number.\")"
   ]
  },
  {
   "cell_type": "markdown",
   "id": "a4d57adb",
   "metadata": {},
   "source": [
    "### 7. Write the reason due to which following errors are raised:\n",
    "\n",
    "a. EOFError\n",
    "\n",
    "b. FloatingPointError\n",
    "\n",
    "c. IndexError\n",
    "\n",
    "d. MemoryError\n",
    "\n",
    "e. OverflowError\n",
    "\n",
    "f. TabError\n",
    "\n",
    "g. ValueError\n",
    "\n",
    "Ans:- a. EOFError: This error occurs when an attempt is made to read beyond the end of a file or stream.\n",
    "\n",
    "b. FloatingPointError: This error occurs when a floating-point operation (such as division by zero or an invalid mathematical operation) cannot be performed correctly.\n",
    "\n",
    "c. IndexError: This error occurs when you try to access an index of a sequence (like a list or a string) that is outside the valid range of indices.\n",
    "\n",
    "d. MemoryError: This error occurs when an operation cannot be completed due to a lack of available memory.\n",
    "\n",
    "e. OverflowError: This error occurs when a mathematical operation exceeds the limits of the data type, causing an overflow of the value.\n",
    "\n",
    "f. TabError: This error occurs when there is an issue with the indentation of your code, often caused by mixing spaces and tabs in an inconsistent manner.\n",
    "\n",
    "g. ValueError: This error occurs when a function receives an argument of the correct data type but an invalid value."
   ]
  },
  {
   "cell_type": "markdown",
   "id": "5779f8c8",
   "metadata": {},
   "source": [
    "### 8. Write code for the following given scenario and add try-exception block to it.\n",
    "\n",
    "a. Program to divide two numbers\n",
    "\n",
    "b. Program to convert a string to an integer\n",
    "\n",
    "c. Program to access an element in a list\n",
    "\n",
    "d. Program to handle a specific exception\n",
    "\n",
    "e. Program to handle any exception"
   ]
  },
  {
   "cell_type": "code",
   "execution_count": 7,
   "id": "0bcb2bf5",
   "metadata": {},
   "outputs": [
    {
     "name": "stdout",
     "output_type": "stream",
     "text": [
      "Please enter the numerator: 6\n",
      "Please enter the denominator: 2\n",
      "Result: 3.0\n"
     ]
    }
   ],
   "source": [
    "#a. Program to divide two numbers\n",
    "try:\n",
    "    n = int(input(\"Please enter the numerator: \"))\n",
    "    d = int(input(\"Please enter the denominator: \"))\n",
    "\n",
    "    result = n / d\n",
    "\n",
    "    print(\"Result:\", result)\n",
    "    \n",
    "except ZeroDivisionError:\n",
    "    print(\"you have divided the number with zero\")"
   ]
  },
  {
   "cell_type": "code",
   "execution_count": 8,
   "id": "2fc221e3",
   "metadata": {},
   "outputs": [
    {
     "name": "stdout",
     "output_type": "stream",
     "text": [
      "Enter an integer: 6\n",
      "Converted integer: 6\n"
     ]
    }
   ],
   "source": [
    "# b. Program to convert a string to an integer\n",
    "\n",
    "try:\n",
    "    s = input(\"Enter an integer: \")\n",
    "    \n",
    "    num = int(s)\n",
    "    \n",
    "    print(\"Converted integer:\", num)\n",
    "    \n",
    "except ValueError:\n",
    "    \n",
    "    print(\"Please enter a valid integer.\")\n"
   ]
  },
  {
   "cell_type": "code",
   "execution_count": 3,
   "id": "835cec4a",
   "metadata": {},
   "outputs": [
    {
     "name": "stdout",
     "output_type": "stream",
     "text": [
      "Enter an index: 4\n",
      "Value at index 4 : 5\n"
     ]
    }
   ],
   "source": [
    "# c. Program to access an element in a list\n",
    "try:\n",
    "    my_list = [1, 2, 3, 4, 5, 6]\n",
    "    index = int(input(\"Enter an index: \"))\n",
    "    value = my_list[index]\n",
    "    print(\"Value at index\", index, \":\", value)\n",
    "except IndexError:\n",
    "    \n",
    "    print(\"Index out of range.\")\n",
    "except ValueError:\n",
    "    print(\"Invalid input. Please enter a valid index.\")\n"
   ]
  },
  {
   "cell_type": "code",
   "execution_count": 5,
   "id": "73bf72c8",
   "metadata": {},
   "outputs": [
    {
     "name": "stdout",
     "output_type": "stream",
     "text": [
      "KeyError error occurred.\n"
     ]
    }
   ],
   "source": [
    "# d. Program to handle a specific exception\n",
    "\n",
    "try:\n",
    "    my_dictionary = {\"name\": \"John\", \"age\": 30}\n",
    "\n",
    "    print(my_dictionary[\"city\"]) \n",
    "\n",
    "except KeyError:\n",
    "    \n",
    "    print(\"KeyError error occurred.\")\n"
   ]
  },
  {
   "cell_type": "code",
   "execution_count": 11,
   "id": "748836a4",
   "metadata": {},
   "outputs": [
    {
     "name": "stdout",
     "output_type": "stream",
     "text": [
      "data type mismatch\n"
     ]
    }
   ],
   "source": [
    "\n",
    "try:\n",
    "    x=\"10\"\n",
    "    y=20\n",
    "    z=x+y\n",
    "    print(z)\n",
    "    \n",
    "except TypeError:\n",
    "    print(\"data type mismatch\")"
   ]
  },
  {
   "cell_type": "code",
   "execution_count": 11,
   "id": "becb5bd6",
   "metadata": {},
   "outputs": [
    {
     "name": "stdout",
     "output_type": "stream",
     "text": [
      "Enter a number: 0\n",
      "An error occurred: division by zero\n"
     ]
    }
   ],
   "source": [
    "#e. Program to handle any exception\n",
    "try:\n",
    "    x = int(input(\"Enter a number: \"))\n",
    "    result = 10 / x\n",
    "    print(\"Result:\", result)\n",
    "except Exception as e:\n",
    "    print(\"An error occurred:\", e)\n"
   ]
  },
  {
   "cell_type": "code",
   "execution_count": 10,
   "id": "244a95c7",
   "metadata": {},
   "outputs": [
    {
     "name": "stdout",
     "output_type": "stream",
     "text": [
      "Enter a number: 0\n",
      "An error occurred:\n"
     ]
    }
   ],
   "source": [
    "try:\n",
    "    x = int(input(\"Enter a number: \"))\n",
    "    result = 10 / x\n",
    "    print(\"Result:\", result)\n",
    "except:\n",
    "    print(\"An error occurred:\")\n"
   ]
  },
  {
   "cell_type": "code",
   "execution_count": 1,
   "id": "ba3d0259",
   "metadata": {},
   "outputs": [
    {
     "name": "stdout",
     "output_type": "stream",
     "text": [
      "data type mismatch\n"
     ]
    }
   ],
   "source": [
    "# type Error\n",
    "\n",
    "try:\n",
    "    x=\"10\"\n",
    "    y=20\n",
    "    z=x+y\n",
    "    print(z)\n",
    "    \n",
    "except:\n",
    "    print(\"data type mismatch\")"
   ]
  },
  {
   "cell_type": "code",
   "execution_count": null,
   "id": "fcfe2697",
   "metadata": {},
   "outputs": [],
   "source": []
  }
 ],
 "metadata": {
  "kernelspec": {
   "display_name": "Python 3 (ipykernel)",
   "language": "python",
   "name": "python3"
  },
  "language_info": {
   "codemirror_mode": {
    "name": "ipython",
    "version": 3
   },
   "file_extension": ".py",
   "mimetype": "text/x-python",
   "name": "python",
   "nbconvert_exporter": "python",
   "pygments_lexer": "ipython3",
   "version": "3.9.13"
  }
 },
 "nbformat": 4,
 "nbformat_minor": 5
}
