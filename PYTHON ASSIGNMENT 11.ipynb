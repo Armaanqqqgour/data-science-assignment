{
 "cells": [
  {
   "cell_type": "markdown",
   "id": "85454798",
   "metadata": {},
   "source": [
    "### 1. What is the role of the 'else' block in a try-except statement? Provide an example scenario where it would be useful.\n",
    "\n",
    "Ans:- The else block in a try-except statement is used to specify a block of code that should be executed only if no exceptions are raised in the corresponding try block.i,e  else block is executed when the code in the try block runs successfully without any exceptions being caught by the except blocks."
   ]
  },
  {
   "cell_type": "code",
   "execution_count": 18,
   "id": "f50d2adb",
   "metadata": {},
   "outputs": [
    {
     "name": "stdout",
     "output_type": "stream",
     "text": [
      "Enter your age: 25\n",
      "Welcome,You cannot apply for driving licence.\n"
     ]
    }
   ],
   "source": [
    "try:\n",
    "    age=int(input('Enter your age: '))\n",
    "    \n",
    "    if age <= 18:\n",
    "        \n",
    "        print('You cannot apply for driving licence.')\n",
    "        \n",
    "except:\n",
    "    print ('You have entered an invalid value.')\n",
    "    \n",
    "else:\n",
    "    print('Welcome,You cannot apply for driving licence.')"
   ]
  },
  {
   "cell_type": "markdown",
   "id": "e356f692",
   "metadata": {},
   "source": [
    "### 2. Can a try-except block be nested inside another try-except block? Explain with an example.\n",
    "\n",
    "Ans:- Yes, you can nest a try-except block inside another try-except block. This is known as nested exception handling. It allows you to handle exceptions at different levels of your code and provide more specific error handling for different situations.This is useful when you want to handle different exceptions that may occur in different parts of the code."
   ]
  },
  {
   "cell_type": "code",
   "execution_count": 28,
   "id": "1ab3767b",
   "metadata": {},
   "outputs": [
    {
     "name": "stdout",
     "output_type": "stream",
     "text": [
      "Enter a filename: test.csv\n",
      "File content: column1,column2,column3,column4\n",
      "0,1,2,3\n",
      "4,5,6,7\n",
      "8,9,10,11\n",
      "12,13,14,15\n",
      "16,17,18,19\n",
      "\n"
     ]
    }
   ],
   "source": [
    "import pandas as pd\n",
    "\n",
    "try:\n",
    "    file_name = input(\"Enter a filename: \")\n",
    "    try:\n",
    "        with open(file_name, 'r') as file:\n",
    "            content = file.read()\n",
    "            print(\"File content:\", content)\n",
    "    except FileNotFoundError:\n",
    "        print(\"File not found (inner)\")\n",
    "except OSError:\n",
    "    print(\"An error occurred (outer)\")\n",
    "\n",
    "    \n",
    "# The outer try block catches general OSError exceptions that may occur during file operations.\n",
    "#Inside the outer try block, there's an inner try block that handles FileNotFoundError exceptions when trying to open a file.\n",
    "    "
   ]
  },
  {
   "cell_type": "markdown",
   "id": "38ef795a",
   "metadata": {},
   "source": [
    "As you can see, nested try-except blocks allow you to catch and handle different exceptions at different points in your code. but make's it difficult to read and undestand the code due to its complexitiy"
   ]
  },
  {
   "cell_type": "markdown",
   "id": "41a03199",
   "metadata": {},
   "source": [
    "### 3. How can you create a custom exception class in Python? Provide an example that demonstrates its usage.\n",
    "\n",
    "Ans:- A custom exception class in Python is a user-defined class that inherits from the built-in Exception class or one of its subclasses.we can create a custom exception class by using the following syntax:\n",
    "\n",
    "class CustomException(Exception):\n",
    "   \n",
    "    pass\n",
    "    \n"
   ]
  },
  {
   "cell_type": "code",
   "execution_count": 20,
   "id": "42b3e00a",
   "metadata": {},
   "outputs": [
    {
     "name": "stdout",
     "output_type": "stream",
     "text": [
      "Enter your age: -5\n",
      "Error: Age cannot be negative\n"
     ]
    }
   ],
   "source": [
    "class MyCustomError(Exception):\n",
    "    pass\n",
    "\n",
    "try:\n",
    "    age = int(input(\"Enter your age: \"))\n",
    "    if age < 0:\n",
    "        raise MyCustomError(\"Age cannot be negative\")\n",
    "    print(\"Your age:\", age)\n",
    "except MyCustomError as mce:\n",
    "    print(\"Error:\", mce)\n",
    "\n"
   ]
  },
  {
   "cell_type": "markdown",
   "id": "e0358679",
   "metadata": {},
   "source": [
    "### 4. What are some common exceptions that are built-in to Python?\n",
    "\n",
    "Ans:- Some common exceptions that are built-in to Python are:\n",
    "\n",
    "SyntaxError:  Raised when there is a syntax error in the code.\n",
    "\n",
    "NameError: Raised when a local or global name is not found\n",
    "\n",
    "TypeError: Raised when an operation or function is applied to an object of inappropriate type.\n",
    "\n",
    "ValueError: when an operation or a function receives an argument that has the right type but an inappropriate value.\n",
    "\n",
    "IndexError: when an index of a sequence (such as a list, a tuple, or a string) is out of range.\n",
    "\n",
    "KeyError:  when a key of a dictionary does not exist\n",
    "\n",
    "ZeroDivisionError: when the second operand of a division or a modulo operation is zero\n",
    "\n",
    "FileNotFoundError: when a file or a directory is requested but does not exist\n",
    "     "
   ]
  },
  {
   "cell_type": "markdown",
   "id": "4bae562a",
   "metadata": {},
   "source": [
    "### 5. What is logging in Python, and why is it important in software development?\n",
    "\n",
    "Ans:- Logging in Python is a way of tracking the events that happen when you run your program. It is important in software development because it can help you debug your code, monitor its performance, and analyze its behavior. \n",
    "\n",
    "Logging can also provide useful information for troubleshooting problems that occurs in production environments.\n",
    "\n",
    "Logging is done using the built-in module logging, which allows you to write status messages to a file or any other output stream. \n",
    "\n",
    "we can use different levels of severity to indicate how important or urgent the messages are, such as DEBUG, INFO, WARNING, ERROR, and CRITICAL.we can also customize the format and destination of the log messages, as well as filter them based on various criteria\n",
    "\n",
    "#### increasing order series\n",
    "\n",
    "#### Debug\n",
    "#### info\n",
    "#### warning\n",
    "#### error\n",
    "#### critical error\n",
    "\n",
    "    "
   ]
  },
  {
   "cell_type": "markdown",
   "id": "2662b7a0",
   "metadata": {},
   "source": [
    "### 6. Explain the purpose of log levels in Python logging and provide examples of when each log level would be appropriate.\n",
    "\n",
    "Ans:-Log levels in Python logging indicate the severity of a log message. They allow us to categorize log messages based on their importance and helping with filtering and controlling the amount of information that is recorded in the logs.\n",
    "\n",
    "DEBUG: This is the lowest level of severity. It is used to log detailed information that can help to debug the code or understand its flow. These messages provide insights into the internal workings of the code.\n",
    "\n",
    "INFO: This is the next level of severity. It is used to log general information that can help's to monitor the normal operation of the program or confirm that things are working as expected.\n",
    "\n",
    "WARNING: This is the third level of severity. It is used to log potential problems or issues that may affect the program’s performance or functionality, but are not critical or fatal.These messages highlight areas where attention might be needed.\n",
    "\n",
    "ERROR: This is the fourth level of severity. It is used to log serious errors or exceptions that prevent the program from completing its task or achieving its goal.These messages provide details about issues that need investigation and resolution.\n",
    "\n",
    "CRITICAL: This is the highest level of severity. It is used to log critical or fatal errors that cause the program to terminate abruptly or crash. These messages require immediate attention and often trigger alerts.\n",
    "    "
   ]
  },
  {
   "cell_type": "code",
   "execution_count": 1,
   "id": "bb66f29c",
   "metadata": {},
   "outputs": [
    {
     "name": "stderr",
     "output_type": "stream",
     "text": [
      "DEBUG:root:this is debug warning\n",
      "INFO:root:this is info warning message\n",
      "WARNING:root:this is warning message\n",
      "ERROR:root:this is error warning message\n",
      "DEBUG:root:this is CRITICAL ERROR  warning message\n",
      "CRITICAL:root:System is out of memory. Shutting down.\n"
     ]
    }
   ],
   "source": [
    "import logging\n",
    "\n",
    "logging.basicConfig(level=logging.DEBUG)\n",
    "\n",
    "logging.debug(\"this is debug warning\")\n",
    "\n",
    "logging.info(\"this is info warning message\")\n",
    "logging.warning(\"this is warning message\")\n",
    "logging.error(\"this is error warning message\")\n",
    "logging.debug(\"this is CRITICAL ERROR  warning message\")\n",
    "\n",
    "logging.critical(\"System is out of memory. Shutting down.\")\n"
   ]
  },
  {
   "cell_type": "markdown",
   "id": "99f93821",
   "metadata": {},
   "source": [
    "    \n",
    "### 7. What are log formatters in Python logging, and how can you customise the log message format using formatters?\n",
    "\n",
    "Ans:- Log formatters in Python logging are like templates that define how log messages should look when they are printed or saved. We can customize the appearance of log messages, so you can see the information you need when you're debugging or monitoring your program.\n",
    "\n",
    "It will let us choose what information you want to show in each log message, such as the time, the level, the message, the module name, etc. We can use different symbols to represent different information, and put them in a string with a special format.We can use %(levelname)s to show the level of the log message, such as DEBUG, INFO, WARNING, etc.\n",
    "\n",
    "To use a log formatter, we need to create one with the format string you want, and then attach it to a handler. A handler is something that sends log messages to a place where you can see them."
   ]
  },
  {
   "cell_type": "code",
   "execution_count": 9,
   "id": "fa45eb6d",
   "metadata": {},
   "outputs": [
    {
     "name": "stderr",
     "output_type": "stream",
     "text": [
      "2023-09-02 18:16:12,515 - CRITICAL - System failure: You need to handle the issue now\n"
     ]
    }
   ],
   "source": [
    "import os\n",
    "import logging\n",
    "\n",
    "# Specify the directory and file\n",
    "dir_path = r'C:\\Users\\Armaan'\n",
    "log_file = 'system.txt'\n",
    "full_path = os.path.join(dir_path, log_file)\n",
    "\n",
    "# Check if the directory exists and create it if necessary\n",
    "os.makedirs(dir_path, exist_ok=True)\n",
    "\n",
    "# Set up logging\n",
    "# Get a logger instance (this will fetch the root logger)\n",
    "logger = logging.getLogger()\n",
    "\n",
    "# Set the level of the logger to CRITICAL\n",
    "# This means it will handle events of level CRITICAL and above\n",
    "logger.setLevel(logging.CRITICAL)\n",
    "\n",
    "# Create a FileHandler instance to write logs to a file\n",
    "handler = logging.FileHandler(full_path)\n",
    "\n",
    "# Set the format of the logs using a Formatter\n",
    "# This format includes the log timestamp, log level and log message\n",
    "handler.setFormatter(logging.Formatter('%(asctime)s:%(levelname)s:%(message)s'))\n",
    "\n",
    "# Add the handler to the logger\n",
    "# This connects the logger to the handler so that logs get written to the file\n",
    "logger.addHandler(handler)\n",
    "\n",
    "\n",
    "def LetUsCheckSystem(sys):\n",
    "    if sys != 'OK':\n",
    "        logging.critical('System failure: %s', sys)\n",
    "\n",
    "LetUsCheckSystem('You need to handle the issue now')\n",
    "handler.close()"
   ]
  },
  {
   "cell_type": "markdown",
   "id": "92779f40",
   "metadata": {},
   "source": [
    "### 8. How can you set up logging to capture log messages from multiple modules or classes in a Python application?\n",
    "\n",
    "Ans:- To set up logging to capture log messages from multiple modules or classes in a Python application, you need to:\n",
    "\n",
    "Import the logging module in each module or class that needs logging.\n",
    "\n",
    "Use logging.getLogger() to create a logger object with a name for each module or class.\n",
    "\n",
    "Use logging.basicConfig() to configure the filename, level, and format of the log messages in the main module or class.\n",
    "\n",
    "Use logger.info(), logger.debug(), logger.error(), etc. to write log messages with different levels of severity.\n",
    "\n",
    "\n",
    "Create a Central Logger: Start by creating a central logger instance using the logging.getLogger() method. Give it a name that represents the application or project."
   ]
  },
  {
   "cell_type": "code",
   "execution_count": 29,
   "id": "16990794",
   "metadata": {},
   "outputs": [],
   "source": [
    "import logging\n",
    "\n",
    "\n",
    "logger = logging.getLogger(__name__)\n"
   ]
  },
  {
   "cell_type": "markdown",
   "id": "46de3c6f",
   "metadata": {},
   "source": [
    "Configure the Logger: Configure the logger's log level and add handlers that determine where the log messages will be sent (e.g., console, file, etc.)."
   ]
  },
  {
   "cell_type": "code",
   "execution_count": 31,
   "id": "4524782b",
   "metadata": {},
   "outputs": [
    {
     "name": "stderr",
     "output_type": "stream",
     "text": [
      "INFO:__main__:Starting app\n",
      "INFO:__main__:Ending app\n"
     ]
    }
   ],
   "source": [
    "def main():\n",
    "    logger.info(\"Starting app\")\n",
    "    \n",
    "    logger.info(\"Ending app\")\n",
    "    \n",
    "if __name__ == \"__main__\":\n",
    "    logging.basicConfig(level=logging.INFO)\n",
    "    main()"
   ]
  },
  {
   "cell_type": "markdown",
   "id": "74f5452a",
   "metadata": {},
   "source": [
    "Use the Central Logger in Modules: In each module or class that needs to log messages, import the central logger instance and use it to log messages."
   ]
  },
  {
   "cell_type": "markdown",
   "id": "0f5d29dc",
   "metadata": {},
   "source": [
    "Logging in Multiple Modules/Classes:\n",
    "With this setup, when you log messages in different modules or classes, they'll all be directed to the same central logger. The logger name you set when creating the logger instance will help you identify where each log message comes from."
   ]
  },
  {
   "cell_type": "markdown",
   "id": "a0ec0032",
   "metadata": {},
   "source": [
    "### 9. What is the difference between the logging and print statements in Python? When should you use logging over print statements in a real-world application?\n",
    "\n",
    "Ans:-Logging and print are both ways to show information in Python, but logging is better for real-world applications. \n",
    "\n",
    "Logging lets you choose the level, format, and destination of your messages, while print only shows the values on the console.\n",
    "\n",
    "Logging helps you debug, monitor, and audit your program more easily, while print may cause problems or slow down your program. \n",
    "\n",
    "Logging is a built-in module that you can import and configure, while print is a built-in function that you can use directly. \n",
    "\n",
    "Logging isSuited for debugging, monitoring, and recording events in production environments.Print is Often used for temporary debugging during development.\n",
    "\n",
    "#### When to use logging over print in a real-world application:\n",
    "\n",
    "Logging is better for production systems as it provides detailed information without cluttering the user interface.\n",
    "\n",
    "Logging helps track issues with timestamps, log levels, and detailed context.\n",
    "\n",
    "Logging offers more control, allowing you to adjust log levels, redirect output, and format messages.\n",
    "\n",
    "In long-term applications, logging is more sustainable and organized than leaving print statements in the code.\n",
    "\n",
    "Logging can help maintain security by recording certain events without exposing sensitive information."
   ]
  },
  {
   "cell_type": "markdown",
   "id": "81b751e8",
   "metadata": {},
   "source": [
    "### 10. Write a Python program that logs a message to a file named \"app.log\" with the following requirements:\n",
    "\n",
    "#### ● The log message should be \"Hello, World!\"\n",
    "\n",
    "#### ● The log level should be set to \"INFO.\"\n",
    "\n",
    "#### ● The log file should append new log entries without overwriting previous ones.\n",
    "\n",
    "Ans:-"
   ]
  },
  {
   "cell_type": "code",
   "execution_count": 2,
   "id": "b041a0d5",
   "metadata": {},
   "outputs": [
    {
     "name": "stderr",
     "output_type": "stream",
     "text": [
      "2023-09-02 18:15:33,822 - INFO - Hello, World!\n"
     ]
    }
   ],
   "source": [
    "# Import the logging module\n",
    "import logging\n",
    "\n",
    "# Create a logger object with the name of the program\n",
    "logger = logging.getLogger(__name__)\n",
    "\n",
    "# Set the log level to INFO\n",
    "logger.setLevel(logging.INFO)\n",
    "\n",
    "# Create a file handler object that appends to the file \"app.log\"\n",
    "file_handler = logging.FileHandler(\"app.log\", mode=\"a\")\n",
    "\n",
    "# Create a formatter object that specifies the format of the log message\n",
    "formatter = logging.Formatter(\"%(asctime)s - %(name)s - %(levelname)s - %(message)s\")\n",
    "\n",
    "# Set the formatter for the file handler\n",
    "file_handler.setFormatter(formatter)\n",
    "\n",
    "# Add the file handler to the logger\n",
    "logger.addHandler(file_handler)\n",
    "\n",
    "# Log a message to the file \"app.log\"\n",
    "logger.info(\"Hello, World!\")\n"
   ]
  },
  {
   "cell_type": "code",
   "execution_count": 3,
   "id": "b107d578",
   "metadata": {},
   "outputs": [
    {
     "name": "stderr",
     "output_type": "stream",
     "text": [
      "2023-09-02 18:15:35,100 - INFO - Hello, World!\n"
     ]
    }
   ],
   "source": [
    "import logging\n",
    "\n",
    "# Configure logging to save log entries to a file\n",
    "logging.basicConfig(\n",
    "    filename='app.log',\n",
    "    level=logging.INFO,\n",
    "    format='%(asctime)s - %(levelname)s - %(message)s',\n",
    "    filemode='a'  # Append mode to avoid overwriting\n",
    ")\n",
    "\n",
    "# Log the message\n",
    "logging.info(\"Hello, World!\")\n"
   ]
  },
  {
   "cell_type": "markdown",
   "id": "5695f52a",
   "metadata": {},
   "source": [
    "### 11. Create a Python program that logs an error message to the console and a file named \"errors.log\" if an exception occurs during the program's execution. The error message should include the exception type and a timestamp.\n",
    "\n",
    "Ans:-"
   ]
  },
  {
   "cell_type": "code",
   "execution_count": 46,
   "id": "7e3426e9",
   "metadata": {},
   "outputs": [
    {
     "name": "stderr",
     "output_type": "stream",
     "text": [
      "2023-08-25 13:35:56,670 - __main__ - ERROR - division by zero\n"
     ]
    }
   ],
   "source": [
    "# Import the logging module\n",
    "import logging\n",
    "\n",
    "# Create a logger object with the name of the program\n",
    "logger = logging.getLogger(__name__)\n",
    "\n",
    "# Set the log level to ERROR\n",
    "logger.setLevel(logging.ERROR)\n",
    "\n",
    "# Create a file handler object that writes to the file \"errors.log\"\n",
    "file_handler = logging.FileHandler(\"errors.log\")\n",
    "\n",
    "# Create a console handler object that writes to the standard error output\n",
    "console_handler = logging.StreamHandler()\n",
    "\n",
    "# Create a formatter object that specifies the format of the log message\n",
    "formatter = logging.Formatter(\"%(asctime)s - %(name)s - %(levelname)s - %(message)s\")\n",
    "\n",
    "# Set the formatter for both handlers\n",
    "file_handler.setFormatter(formatter)\n",
    "console_handler.setFormatter(formatter)\n",
    "\n",
    "# Add both handlers to the logger\n",
    "logger.addHandler(file_handler)\n",
    "logger.addHandler(console_handler)\n",
    "\n",
    "# Define a function that may raise an exception\n",
    "def divide(x, y):\n",
    "    return x / y\n",
    "\n",
    "# Use a try-except block to handle any exceptions\n",
    "try:\n",
    "    # Call the function with some arguments\n",
    "    result = divide(10, 0)\n",
    "    # Print the result if no exception occurs\n",
    "    print(result)\n",
    "except Exception as e:\n",
    "    # Log the error message to both the console and the file if an exception occurs\n",
    "    logger.error(e)\n"
   ]
  },
  {
   "cell_type": "code",
   "execution_count": 1,
   "id": "b6dc793f",
   "metadata": {},
   "outputs": [
    {
     "name": "stderr",
     "output_type": "stream",
     "text": [
      "2023-09-02 18:15:21,128 - ERROR - An exception occurred: ZeroDivisionError: division by zero\n"
     ]
    }
   ],
   "source": [
    "import logging\n",
    "\n",
    "def main():\n",
    "    # Configure logging to display messages on the console and log errors to a file\n",
    "    logging.basicConfig(level=logging.INFO, format=\"%(asctime)s - %(levelname)s - %(message)s\")\n",
    "    file_handler = logging.FileHandler(\"errors.log\", mode=\"a\")\n",
    "    file_handler.setFormatter(logging.Formatter(\"%(asctime)s - %(levelname)s - %(message)s\"))\n",
    "    logger = logging.getLogger()\n",
    "    logger.addHandler(file_handler)\n",
    "\n",
    "    try:\n",
    "        # Your code that may raise an exception\n",
    "        result = 10 / 0  # Division by zero to trigger an exception\n",
    "    except Exception as e:\n",
    "        # Log the error message including exception type and timestamp\n",
    "        logger.error(f\"An exception occurred: {type(e).__name__}: {e}\")\n",
    "\n",
    "if __name__ == \"__main__\":\n",
    "    main()\n"
   ]
  },
  {
   "cell_type": "code",
   "execution_count": 49,
   "id": "2a8db038",
   "metadata": {},
   "outputs": [],
   "source": []
  },
  {
   "cell_type": "code",
   "execution_count": null,
   "id": "94ab1d4f",
   "metadata": {},
   "outputs": [],
   "source": []
  }
 ],
 "metadata": {
  "kernelspec": {
   "display_name": "Python 3 (ipykernel)",
   "language": "python",
   "name": "python3"
  },
  "language_info": {
   "codemirror_mode": {
    "name": "ipython",
    "version": 3
   },
   "file_extension": ".py",
   "mimetype": "text/x-python",
   "name": "python",
   "nbconvert_exporter": "python",
   "pygments_lexer": "ipython3",
   "version": "3.9.13"
  }
 },
 "nbformat": 4,
 "nbformat_minor": 5
}
