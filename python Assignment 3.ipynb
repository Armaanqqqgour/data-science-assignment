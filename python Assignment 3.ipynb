{
 "cells": [
  {
   "cell_type": "markdown",
   "id": "80fd1016",
   "metadata": {},
   "source": [
    "### 1. Why are functions advantageous to have in your programs?\n",
    "\n",
    "Ans:- Functions are advantageous to have in the programms because,\n",
    "\n",
    "Reuse Code: You can define a function once and use it multiple times throughout your program.\n",
    "\n",
    "Organize Code: Functions making your code easier to read and maintain.\n",
    "\n",
    "Reduce Errors: By using functions, you minimize the chances of making mistakes.\n",
    "\n",
    "Functions also make it easier for multiple programmers to work together on a project by dividing tasks into functions."
   ]
  },
  {
   "cell_type": "markdown",
   "id": "55ae00bc",
   "metadata": {},
   "source": [
    "### 2. When does the code in a function run: when it's specified or when it's called?\n",
    "\n",
    "Ans:-The code in a function run when it is called not when it is specified.\n",
    "    "
   ]
  },
  {
   "cell_type": "markdown",
   "id": "2d75bb78",
   "metadata": {},
   "source": [
    "### 3. What statement creates a function?\n",
    "\n",
    "Ans:- The def statement creates the function."
   ]
  },
  {
   "cell_type": "markdown",
   "id": "bcb15e67",
   "metadata": {},
   "source": [
    "### 4. What is the difference between a function and a function call?\n",
    "\n",
    "Ans:-A function is define as a block of code that performs the task, while a function call is the action of using that function to execute its task with specific arguments.\n",
    "\n",
    "Function is define using the def keyword,followed by the function name.\n",
    "\n",
    "The function call causes the code inside the function to be executed."
   ]
  },
  {
   "cell_type": "code",
   "execution_count": 4,
   "id": "3415f4ea",
   "metadata": {},
   "outputs": [
    {
     "name": "stdout",
     "output_type": "stream",
     "text": [
      "Hello, Armaan gour\n"
     ]
    }
   ],
   "source": [
    "# Function definition\n",
    "def person(firstname,lastname):\n",
    "    print(\"Hello, \" + firstname,lastname)\n",
    "\n",
    "# Function call\n",
    "person(\"Armaan\",\"gour\")\n"
   ]
  },
  {
   "cell_type": "markdown",
   "id": "15ae1092",
   "metadata": {},
   "source": [
    "### 5. How many global scopes are there in a Python program? How many local scopes?\n",
    "\n",
    "Ans:-There is only one global scope in the python programm. local scopes are created when the function is called. local scopes can vary according to the number of function called."
   ]
  },
  {
   "cell_type": "markdown",
   "id": "5e8e6ea0",
   "metadata": {},
   "source": [
    "### 6. What happens to variables in a local scope when the function call returns?\n",
    "\n",
    "Ans:- When a function call returns the local scope of that function is destroyed and any variables defined within that local scope cease to exist or forgotten."
   ]
  },
  {
   "cell_type": "markdown",
   "id": "2ac504bb",
   "metadata": {},
   "source": [
    "### 7. What is the concept of a return value? Is it possible to have a return value in an expression?\n",
    "\n",
    "Ans:- \n",
    "The concept of a return value in Python is when a function gives back a value after performing its task. yes it is possible to have a return statement in an expression "
   ]
  },
  {
   "cell_type": "code",
   "execution_count": 6,
   "id": "b0439799",
   "metadata": {},
   "outputs": [
    {
     "name": "stdout",
     "output_type": "stream",
     "text": [
      "The sum of two number is: 10\n"
     ]
    }
   ],
   "source": [
    "def add_number(num1,num2):\n",
    "    sum_result=num1+num2\n",
    "    return sum_result\n",
    "\n",
    "result=add_number(5,5) \n",
    "print(\"The sum of two number is:\",result)\n"
   ]
  },
  {
   "cell_type": "markdown",
   "id": "9c2d6701",
   "metadata": {},
   "source": [
    "### 8. If a function does not have a return statement, what is the return value of a call to that function?\n",
    "\n",
    "Ans:-  If a function does not have a return statement it simply gives us the value None."
   ]
  },
  {
   "cell_type": "code",
   "execution_count": 7,
   "id": "8aa94024",
   "metadata": {},
   "outputs": [
    {
     "name": "stdout",
     "output_type": "stream",
     "text": [
      "The sum of two number is: None\n"
     ]
    }
   ],
   "source": [
    "def add_number(num1,num2):\n",
    "    sum_result=num1+num2\n",
    "\n",
    "\n",
    "result=add_number(5,5) \n",
    "print(\"The sum of two number is:\",result)"
   ]
  },
  {
   "cell_type": "markdown",
   "id": "5203c9f0",
   "metadata": {},
   "source": [
    "### 9. How do you make a function variable refer to the global variable?\n",
    "\n",
    "Ans:- To make a function variable refer to the global variable, you can use the global keyword inside the function."
   ]
  },
  {
   "cell_type": "markdown",
   "id": "1e55a668",
   "metadata": {},
   "source": [
    "### 10. What is the data type of None?\n",
    "\n",
    "Ans:- the data type of None is NoneType"
   ]
  },
  {
   "cell_type": "code",
   "execution_count": 9,
   "id": "dcd195f8",
   "metadata": {},
   "outputs": [
    {
     "data": {
      "text/plain": [
       "NoneType"
      ]
     },
     "execution_count": 9,
     "metadata": {},
     "output_type": "execute_result"
    }
   ],
   "source": [
    "type(None)"
   ]
  },
  {
   "cell_type": "markdown",
   "id": "90ae2c83",
   "metadata": {},
   "source": [
    "### 11. What does the sentence import areallyourpetsnamederic do?\n",
    "\n",
    "Ans:- The import statement is used to bring the modules the the program, In this sentence the import statement imports a module named areallyourpetsnamederic"
   ]
  },
  {
   "cell_type": "markdown",
   "id": "22d0e0f7",
   "metadata": {},
   "source": [
    "### 12. If you had a bacon() feature in a spam module, what would you call it after importing spam?\n",
    "\n",
    "Ans:- After importing the sapm we can call a bacon() feature in a spam module by using this\n",
    "    \n",
    "import spam\n",
    "\n",
    "spam.bacon()\n"
   ]
  },
  {
   "cell_type": "markdown",
   "id": "8d88f1bc",
   "metadata": {},
   "source": [
    "### 13. What can you do to save a programme from crashing if it encounters an error?\n",
    "\n",
    "Ans:- To prevent a program from crashing when it encounters an error, you can use error handling techniques. Like try, except, else, and finally blocks."
   ]
  },
  {
   "cell_type": "code",
   "execution_count": 11,
   "id": "89c9e95c",
   "metadata": {},
   "outputs": [
    {
     "name": "stdout",
     "output_type": "stream",
     "text": [
      "data type mismatch\n"
     ]
    }
   ],
   "source": [
    "# type Error\n",
    "\n",
    "try:\n",
    "    x=\"10\"\n",
    "    y=20\n",
    "    z=x+y\n",
    "    print(z)\n",
    "    \n",
    "except TypeError:\n",
    "    print(\"data type mismatch\")"
   ]
  },
  {
   "cell_type": "markdown",
   "id": "8e996b86",
   "metadata": {},
   "source": [
    "### 14. What is the purpose of the try clause? What is the purpose of the except clause?\n",
    "\n",
    "Ans:-  try clause is used to enclosed the code that might show error.\n",
    "      \n",
    "   except clause is used to specify what should be done when the error occurs in the try block.  "
   ]
  },
  {
   "cell_type": "code",
   "execution_count": null,
   "id": "6b4557ea",
   "metadata": {},
   "outputs": [],
   "source": []
  }
 ],
 "metadata": {
  "kernelspec": {
   "display_name": "Python 3 (ipykernel)",
   "language": "python",
   "name": "python3"
  },
  "language_info": {
   "codemirror_mode": {
    "name": "ipython",
    "version": 3
   },
   "file_extension": ".py",
   "mimetype": "text/x-python",
   "name": "python",
   "nbconvert_exporter": "python",
   "pygments_lexer": "ipython3",
   "version": "3.9.13"
  }
 },
 "nbformat": 4,
 "nbformat_minor": 5
}
