{
 "cells": [
  {
   "cell_type": "markdown",
   "id": "c406e4ea",
   "metadata": {},
   "source": [
    "### 1. In Python, what is the difference between a built-in function and a user-defined function? Provide an example of each.\n",
    "\n",
    "Ans:- A built-in function is a function that is already defined in Python libraries and we can call it directly without importing any module. For example, the print() function, len() function is a built-in function that prints the given argument to the standard output.Built-in functions are part of the Python language and are available by default.\n",
    "\n",
    "Built-in functions cover a wide range of general tasks."
   ]
  },
  {
   "cell_type": "code",
   "execution_count": 3,
   "id": "fd1295a1",
   "metadata": {},
   "outputs": [
    {
     "name": "stdout",
     "output_type": "stream",
     "text": [
      "Length of the string: 13\n",
      "Hello, world!\n"
     ]
    }
   ],
   "source": [
    "text = \"Hello, world!\"\n",
    "length = len(text)\n",
    "print(\"Length of the string:\", length)\n",
    "print(text)\n"
   ]
  },
  {
   "cell_type": "markdown",
   "id": "bd6e00e6",
   "metadata": {},
   "source": [
    "A user-defined function is a function that we create ourselves in our program to perform a specific task. We can define a user-defined function using the def keyword, followed by the function name and parentheses.User-defined functions need to be defined by the programmer before they can be used.we can also add parameters inside parentheses.\n",
    "\n",
    "User-defined functions can be customized to specific requirements."
   ]
  },
  {
   "cell_type": "code",
   "execution_count": 4,
   "id": "046883f7",
   "metadata": {},
   "outputs": [
    {
     "data": {
      "text/plain": [
       "12.56"
      ]
     },
     "execution_count": 4,
     "metadata": {},
     "output_type": "execute_result"
    }
   ],
   "source": [
    "def area_of_circle(radius):\n",
    "    pi =3.14\n",
    "    area = pi*radius**2\n",
    "    return area\n",
    "\n",
    "area_of_circle(2)\n"
   ]
  },
  {
   "cell_type": "markdown",
   "id": "58c12f0c",
   "metadata": {},
   "source": [
    "### 2. How can you pass arguments to a function in Python? Explain the difference between positional arguments and keyword arguments.\n",
    "\n",
    "Ans:- In Python, you can pass arguments to a function to provide it with the necessary data or values it needs to perform its tasks. Arguments allow you to make your functions more flexible and reusable by accepting different inputs.\n",
    "\n",
    "Positional arguments are passed to a function in the order in which the function parameters are defined. The values you provide correspond to the function's parameters based on their positions."
   ]
  },
  {
   "cell_type": "code",
   "execution_count": 5,
   "id": "b5f3e6b8",
   "metadata": {},
   "outputs": [
    {
     "name": "stdout",
     "output_type": "stream",
     "text": [
      "Hello, Armaan! You are 23 years old.\n"
     ]
    }
   ],
   "source": [
    "def person(name, age):\n",
    "    print(f\"Hello, {name}! You are {age} years old.\")\n",
    "\n",
    "person(\"Armaan\",23)\n"
   ]
  },
  {
   "cell_type": "markdown",
   "id": "b2c1348f",
   "metadata": {},
   "source": [
    "As we can see in positional argument armaan is first correspomding to name and 23 correspond to age after that.ie  Positional arguments are the ones that are specified in the same order as the parameters in the function definition.\n",
    "\n",
    "Keyword arguments are passed to a function using the parameter names as keywords. This allows you to explicitly specify which argument corresponds to which parameter, regardless of their positions.Keyword arguments are the ones that are specified by using the parameter names and an equal sign."
   ]
  },
  {
   "cell_type": "code",
   "execution_count": 6,
   "id": "270ddd8d",
   "metadata": {},
   "outputs": [
    {
     "name": "stdout",
     "output_type": "stream",
     "text": [
      "Hello, Armaan! You are 23 years old.\n"
     ]
    }
   ],
   "source": [
    "person(age=23,name=\"Armaan\")"
   ]
  },
  {
   "cell_type": "markdown",
   "id": "eb09e5ca",
   "metadata": {},
   "source": [
    "### 3. What is the purpose of the return statement in a function? Can a function have multiple return statements? Explain with an example.\n",
    "\n",
    "Ans:- The purpose of the return statement in a function is to end the execution of the function and send back a value to the caller code. The value can be any Python object, such as a number, a string, a list, a dictionary, or even another function. The return statement can be used to perform further computation or processing with the returned value.\n",
    "\n",
    "Yes a function can have multiple return statements, but only one of them will be executed depending on the flow of control"
   ]
  },
  {
   "cell_type": "code",
   "execution_count": 7,
   "id": "85f50bdb",
   "metadata": {},
   "outputs": [],
   "source": [
    "def check_number (n):\n",
    "    if n==0:\n",
    "        return \"Zer0\"\n",
    "    elif n> 0:\n",
    "        return \"Positive\"\n",
    "    else:\n",
    "        return \"Negative\""
   ]
  },
  {
   "cell_type": "code",
   "execution_count": 8,
   "id": "ce6aac05",
   "metadata": {},
   "outputs": [
    {
     "data": {
      "text/plain": [
       "'Positive'"
      ]
     },
     "execution_count": 8,
     "metadata": {},
     "output_type": "execute_result"
    }
   ],
   "source": [
    "check_number(14)"
   ]
  },
  {
   "cell_type": "code",
   "execution_count": 9,
   "id": "ec875917",
   "metadata": {},
   "outputs": [
    {
     "name": "stdout",
     "output_type": "stream",
     "text": [
      "('negative output', -7)\n"
     ]
    }
   ],
   "source": [
    "def difference(a, b):\n",
    "    if a > b:\n",
    "        return a-b\n",
    "    else:\n",
    "        return \"negative output\" ,a-b\n",
    "\n",
    "\n",
    "result =difference(8,15)\n",
    "\n",
    "print(result)\n"
   ]
  },
  {
   "cell_type": "markdown",
   "id": "70db1454",
   "metadata": {},
   "source": [
    "### 4. What are lambda functions in Python? How are they different from regular functions? Provide an example where a lambda function can be useful.\n",
    "\n",
    "Ans:- Lambda functions in Python are a way to create small anonymous functions that can take any number of arguments but can only have one expression.This function is also known as anonymous function \n",
    "\n",
    "Lambda functions are defined using the keyword lambda, whereas regular functions are defined using the keyword def.\n",
    "\n",
    "Lambda functions do not have a name, whereas regular functions have a name that can be used to call them later.\n",
    "\n",
    "Lambda functions are concise and can be written in one line, whereas regular functions can span multiple lines and have a body with statements.\n",
    "\n",
    "Lambda functions are usually used as arguments to other functions that expect a function object, whereas regular functions can be used independently or as arguments to other functions."
   ]
  },
  {
   "cell_type": "code",
   "execution_count": 10,
   "id": "0e76e8ab",
   "metadata": {},
   "outputs": [
    {
     "name": "stdout",
     "output_type": "stream",
     "text": [
      "enter 1st number5\n",
      "enter 2st number6\n",
      "11\n"
     ]
    }
   ],
   "source": [
    "add=lambda:int(input(\"enter 1st number\"))+int(input(\"enter 2st number\"))\n",
    "print(add())"
   ]
  },
  {
   "cell_type": "code",
   "execution_count": 13,
   "id": "7f6858f6",
   "metadata": {},
   "outputs": [
    {
     "name": "stdout",
     "output_type": "stream",
     "text": [
      "{'name': 'apple', 'price': 150000}\n",
      "{'name': 'oppo', 'price': 18000}\n",
      "{'name': 'redmi', 'price': 15000}\n",
      "{'name': 'vivo', 'price': 12000}\n"
     ]
    }
   ],
   "source": [
    "product=[{\"name\":\"redmi\",\"price\":15000},\n",
    "        {\"name\":\"oppo\",\"price\":18000},\n",
    "        {\"name\":\"vivo\",\"price\":12000},\n",
    "        {\"name\":\"apple\",\"price\":150000}]\n",
    "\n",
    "sorted_product=sorted(product,key=lambda x:x[''])\n",
    "\n",
    "for product in sorted_product:\n",
    "    \n",
    "    print(product)"
   ]
  },
  {
   "cell_type": "markdown",
   "id": "3c7e14f4",
   "metadata": {},
   "source": [
    "### 5. How does the concept of \"scope\" apply to functions in Python? Explain the difference between local scope and global scope.\n",
    "\n",
    "Ans:-The concept of \"scope\" in Python refers to the region in which a variable or name is accessible. It determines where variables are defined, how they can be accessed, and whether they are visible to different parts of the code.Their are different types of scopes in python.\n",
    "\n",
    "!) Local scope refers to the scope within a function. Variables defined within a function are considered to be in the local scope. These variables are only accessible within that specific function and cannot be accessed from outside the function.\n",
    "\n",
    "2 Global scope refers to the outermost scope, which is outside of any function. Variables defined in the global scope are accessible from anywhere in the code, including within functions.\n",
    "\n"
   ]
  },
  {
   "cell_type": "code",
   "execution_count": 14,
   "id": "f31a9eed",
   "metadata": {},
   "outputs": [
    {
     "name": "stdout",
     "output_type": "stream",
     "text": [
      "1\n",
      "2\n",
      "1\n"
     ]
    },
    {
     "ename": "NameError",
     "evalue": "name 'y' is not defined",
     "output_type": "error",
     "traceback": [
      "\u001b[1;31m---------------------------------------------------------------------------\u001b[0m",
      "\u001b[1;31mNameError\u001b[0m                                 Traceback (most recent call last)",
      "\u001b[1;32m~\\AppData\\Local\\Temp\\ipykernel_17496\\3895205048.py\u001b[0m in \u001b[0;36m<module>\u001b[1;34m\u001b[0m\n\u001b[0;32m      8\u001b[0m \u001b[0mfunc\u001b[0m\u001b[1;33m(\u001b[0m\u001b[1;33m)\u001b[0m\u001b[1;33m\u001b[0m\u001b[1;33m\u001b[0m\u001b[0m\n\u001b[0;32m      9\u001b[0m \u001b[0mprint\u001b[0m\u001b[1;33m(\u001b[0m\u001b[0mx\u001b[0m\u001b[1;33m)\u001b[0m\u001b[1;33m\u001b[0m\u001b[1;33m\u001b[0m\u001b[0m\n\u001b[1;32m---> 10\u001b[1;33m \u001b[0mprint\u001b[0m\u001b[1;33m(\u001b[0m\u001b[0my\u001b[0m\u001b[1;33m)\u001b[0m\u001b[1;33m\u001b[0m\u001b[1;33m\u001b[0m\u001b[0m\n\u001b[0m",
      "\u001b[1;31mNameError\u001b[0m: name 'y' is not defined"
     ]
    }
   ],
   "source": [
    "x = 1\n",
    "\n",
    "def func():\n",
    "    y = 2\n",
    "    print(x)\n",
    "    print(y) \n",
    "    \n",
    "func()\n",
    "print(x) \n",
    "print(y)"
   ]
  },
  {
   "cell_type": "markdown",
   "id": "2f5798a8",
   "metadata": {},
   "source": [
    "In this code, x is a global variable that can be accessed from anywhere in the program, including inside the function However, y is a local variable that can only be accessed from inside the function. If we try to access y from outside the function, we get a NameError because y is not defined in the global scope."
   ]
  },
  {
   "cell_type": "markdown",
   "id": "391b70ea",
   "metadata": {},
   "source": [
    "### 6. How can you use the \"return\" statement in a Python function to return multiple values?\n",
    "\n",
    "Ans:- In Python, you can use the return statement in a function to return multiple values by separating them with commas. When you return multiple values using this approach, Python packs those values into a tuple and returns the tuple."
   ]
  },
  {
   "cell_type": "code",
   "execution_count": 15,
   "id": "be921466",
   "metadata": {},
   "outputs": [
    {
     "name": "stdout",
     "output_type": "stream",
     "text": [
      "7\n",
      "-1\n"
     ]
    }
   ],
   "source": [
    "def math (a, b):\n",
    "    return a+b, a-b\n",
    "\n",
    "x, y= math (3, 4)\n",
    "\n",
    "print(x) \n",
    "print(y) "
   ]
  },
  {
   "cell_type": "markdown",
   "id": "3326c953",
   "metadata": {},
   "source": [
    "we can also use return function in tuple, list, dictonary\n",
    "\n",
    "1)  You can return a tuple from a function by separating the values with commas, with or without parentheses."
   ]
  },
  {
   "cell_type": "code",
   "execution_count": 22,
   "id": "46146fad",
   "metadata": {},
   "outputs": [
    {
     "name": "stdout",
     "output_type": "stream",
     "text": [
      "ritik\n",
      "23\n"
     ]
    }
   ],
   "source": [
    "def student():\n",
    "    name = \"ritik\"\n",
    "    age = 23\n",
    "    return name, age \n",
    "name, age = student()\n",
    "print(name) \n",
    "print(age) \n"
   ]
  },
  {
   "cell_type": "markdown",
   "id": "84d3f10e",
   "metadata": {},
   "source": [
    "A list is a collection of items that can store multiple values of different types. You can return a list from a function by using square brackets to enclose the values."
   ]
  },
  {
   "cell_type": "code",
   "execution_count": 24,
   "id": "28f75f70",
   "metadata": {},
   "outputs": [
    {
     "name": "stdout",
     "output_type": "stream",
     "text": [
      "[10, 20, 30]\n"
     ]
    }
   ],
   "source": [
    "def get_numbers():\n",
    "    num1 = 10\n",
    "    num2 = 20\n",
    "    num3 = 30\n",
    "    return [num1, num2, num3]\n",
    "\n",
    "numbers = get_numbers()\n",
    "print(numbers) \n",
    "\n"
   ]
  },
  {
   "cell_type": "markdown",
   "id": "3ee54823",
   "metadata": {},
   "source": [
    "A dictionary is a collection of key-value pairs that can store multiple values of different types. You can return a dictionary from a function by using curly braces to enclose the key-value pairs. "
   ]
  },
  {
   "cell_type": "code",
   "execution_count": 25,
   "id": "ff7df68c",
   "metadata": {},
   "outputs": [
    {
     "name": "stdout",
     "output_type": "stream",
     "text": [
      "{'id': 101, 'name': 'Bob', 'grade': 'A'}\n"
     ]
    }
   ],
   "source": [
    "def student_info():\n",
    "    student_id = 101\n",
    "    student_name = \"Bob\"\n",
    "    student_grade = \"A\"\n",
    "    return {\"id\": student_id, \"name\": student_name, \"grade\": student_grade}\n",
    "\n",
    "Detail = student_info()\n",
    "print(Detail) \n"
   ]
  },
  {
   "cell_type": "markdown",
   "id": "e8ea68f3",
   "metadata": {},
   "source": [
    "### 7. What is the difference between the \"pass by value\" and \"pass by reference\" concepts when it comes to function arguments in Python?\n",
    "\n",
    "Ans:- The difference between the \"pass by value\" and \"pass by reference\" , is that in a pass by value, the parameter value copies to another variable while, in a pass by reference, the actual parameter passes to the function.\n",
    "\n",
    "In \"pass by value\" a copy of the actual value (data) is passed to the function. Any changes made to the parameter inside the function do not affect the original value outside the function. \n",
    "\n",
    "In \"pass by reference\" a reference the memory address is passed to the function. Any changes made to the parameter inside the function directly affect the original value outside the function. \n",
    "\n",
    "\"pass by vaue\" required more momery than \"pass by reference\". Exicution time is more in \"pass by value\" as compaired to \"pass by reference\"  beacuse its copys the code."
   ]
  },
  {
   "cell_type": "markdown",
   "id": "8d945148",
   "metadata": {},
   "source": [
    "### 8. Create a function that can intake integer or decimal value and do following operations:\n",
    "\n",
    "a. Logarithmic function (log x)\n",
    "\n",
    "b. Exponential function (exp(x))\n",
    "\n",
    "c. Power function with base 2 (2**x)\n",
    "\n",
    "d. Square root\n",
    "\n",
    "Ans:- "
   ]
  },
  {
   "cell_type": "code",
   "execution_count": 36,
   "id": "c29a6c05",
   "metadata": {},
   "outputs": [
    {
     "name": "stdout",
     "output_type": "stream",
     "text": [
      "The natural logarithm of 1 is 0.0.\n",
      "The exponential value of 1 is 2.718281828459045.\n",
      "The power of 2 raised to 1 is 2.\n",
      "The square of 1 is 1.0.\n",
      "The natural logarithm of 5 is 1.6094379124341003.\n",
      "The exponential value of 5 is 148.4131591025766.\n",
      "The power of 2 raised to 5 is 32.\n",
      "The square of 5 is 2.23606797749979.\n"
     ]
    }
   ],
   "source": [
    "import math\n",
    "\n",
    "def math_operation(x):\n",
    "    \n",
    "    log_x=math.log(x)\n",
    "    print(f\"The natural logarithm of {x} is {log_x}.\")\n",
    "    \n",
    "    exp_x=math.exp(x)\n",
    "    print(f\"The exponential value of {x} is {exp_x}.\")\n",
    "    \n",
    "    power_x=2**x\n",
    "    print(f\"The power of 2 raised to {x} is {power_x}.\")\n",
    "    \n",
    "    sqrt_x=math.sqrt(x)\n",
    "    print(f\"The square of {x} is {sqrt_x}.\")\n",
    "\n",
    "math_operation(1)\n",
    "\n",
    "math_operation(5)\n"
   ]
  },
  {
   "cell_type": "markdown",
   "id": "52f2ba10",
   "metadata": {},
   "source": [
    "### 9. Create a function that takes a full name as an argument and returns first name and last name"
   ]
  },
  {
   "cell_type": "code",
   "execution_count": 37,
   "id": "b9866619",
   "metadata": {},
   "outputs": [
    {
     "name": "stdout",
     "output_type": "stream",
     "text": [
      "First Name: Armaan\n",
      "Last Name: gour\n"
     ]
    }
   ],
   "source": [
    "def split_name(full_name):\n",
    "    \n",
    "    name_list = full_name.split()\n",
    "    \n",
    "    first_name = name_list[0]\n",
    "    \n",
    "    last_name = name_list[-1]\n",
    "    \n",
    "    return (first_name, last_name)\n",
    "    \n",
    "full_name=(\"Armaan gour\")\n",
    "    \n",
    "first, last = split_name(full_name)\n",
    "\n",
    "print(\"First Name:\", first)\n",
    "print(\"Last Name:\", last)\n"
   ]
  },
  {
   "cell_type": "code",
   "execution_count": 43,
   "id": "83df4092",
   "metadata": {},
   "outputs": [
    {
     "name": "stdout",
     "output_type": "stream",
     "text": [
      "First Name: Armaan\n",
      "Last Name: gour\n"
     ]
    }
   ],
   "source": [
    "def split_name(full_name):\n",
    "    \n",
    "    name_list = full_name.split()\n",
    "    \n",
    "    first_name = name_list[0]\n",
    "    print(\"First Name:\", first)\n",
    "    \n",
    "    last_name = name_list[-1]\n",
    "    print(\"Last Name:\", last)\n",
    "    \n",
    "split_name(\"Armaan Gour\")\n"
   ]
  },
  {
   "cell_type": "code",
   "execution_count": null,
   "id": "e74d386b",
   "metadata": {},
   "outputs": [],
   "source": []
  }
 ],
 "metadata": {
  "kernelspec": {
   "display_name": "Python 3 (ipykernel)",
   "language": "python",
   "name": "python3"
  },
  "language_info": {
   "codemirror_mode": {
    "name": "ipython",
    "version": 3
   },
   "file_extension": ".py",
   "mimetype": "text/x-python",
   "name": "python",
   "nbconvert_exporter": "python",
   "pygments_lexer": "ipython3",
   "version": "3.9.13"
  }
 },
 "nbformat": 4,
 "nbformat_minor": 5
}
