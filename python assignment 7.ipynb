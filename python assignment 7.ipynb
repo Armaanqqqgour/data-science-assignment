{
 "cells": [
  {
   "cell_type": "markdown",
   "id": "3743f657",
   "metadata": {},
   "source": [
    "### Q.1. Create two int type variables, apply addition, subtraction, division and multiplications and store the results in variables. Then print the data in the following format by calling the variables:\n",
    "    \n",
    "First variable is __ & second variable is __.\n",
    "Addition: __ + __ = __\n",
    "Subtraction: __ - __ = __\n",
    "Multiplication: __ * __ = __\n",
    "Division: __ / __ = __\n",
    "    "
   ]
  },
  {
   "cell_type": "code",
   "execution_count": 7,
   "id": "02c90614",
   "metadata": {},
   "outputs": [
    {
     "name": "stdout",
     "output_type": "stream",
     "text": [
      "enter 1st number7\n",
      "enter 1st number5\n",
      "First variable is 7 & second variable is 5.\n",
      "Addition: 7 + 5 = 12\n",
      "Subtraction: 7 - 5 = 2\n",
      "Multiplication: 7 * 5 = 35\n",
      "Division: 7 / 5 = 1.4\n"
     ]
    }
   ],
   "source": [
    "\n",
    "a = int(input(\"enter 1st number\"))\n",
    "b = int(input(\"enter 1st number\"))\n",
    "\n",
    "add = a + b\n",
    "sub = a - b\n",
    "mul = a * b\n",
    "div = a / b\n",
    "\n",
    "\n",
    "print(f\"First variable is {a} & second variable is {b}.\")\n",
    "print(f\"Addition: {a} + {b} = {add}\")\n",
    "print(f\"Subtraction: {a} - {b} = {sub}\")\n",
    "print(f\"Multiplication: {a} * {b} = {mul}\")\n",
    "print(f\"Division: {a} / {b} = {div}\")\n"
   ]
  },
  {
   "cell_type": "markdown",
   "id": "863e0ded",
   "metadata": {},
   "source": [
    "### Q.2. What is the difference between the following operators:\n",
    "\n",
    "(i) ‘/’ & ‘//’\n",
    "\n",
    "(ii) ‘**’ & ‘^’\n",
    "\n",
    "\n",
    "Ans:- '/' it's a Division Operator used to divide two numbers and the output can be floating values, whereas '//' is a floor division operstor used to divide two numbers that results in an integer.For ex if the value is 3.78 it round off the values into integer"
   ]
  },
  {
   "cell_type": "code",
   "execution_count": 69,
   "id": "ae056863",
   "metadata": {},
   "outputs": [
    {
     "name": "stdout",
     "output_type": "stream",
     "text": [
      "1.8\n",
      "1\n"
     ]
    }
   ],
   "source": [
    "x=9\n",
    "y=5\n",
    "\n",
    "print(x/y)\n",
    "print(x//y)"
   ]
  },
  {
   "cell_type": "markdown",
   "id": "7e5373ab",
   "metadata": {},
   "source": [
    "** is an Exponentiation Operator.This operator raises the left operand to the power of the right operand\n",
    "\n",
    "'^' is a Bitwise XOR Operator. This operator performs a bitwise exclusive OR (XOR) operation between the binary representations of two integers."
   ]
  },
  {
   "cell_type": "code",
   "execution_count": 74,
   "id": "63872836",
   "metadata": {},
   "outputs": [
    {
     "name": "stdout",
     "output_type": "stream",
     "text": [
      "8\n",
      "9\n"
     ]
    }
   ],
   "source": [
    "a=2**3\n",
    "print(a)\n",
    "\n",
    "b=10^3\n",
    "print(b)"
   ]
  },
  {
   "cell_type": "markdown",
   "id": "2fc64a6c",
   "metadata": {},
   "source": [
    "### Q.3. List the logical operators.\n",
    "\n",
    "Ans:- The logical operators are AND, OR and NOT it is used in finding boolean values(True,False)\n",
    "    "
   ]
  },
  {
   "cell_type": "code",
   "execution_count": 5,
   "id": "23b6b50a",
   "metadata": {},
   "outputs": [
    {
     "name": "stdout",
     "output_type": "stream",
     "text": [
      "False\n",
      "True\n",
      "True\n",
      "False\n",
      "True\n",
      "True\n"
     ]
    }
   ],
   "source": [
    "a = True     # x=5\n",
    "b = False    # y=6\n",
    "\n",
    "print(a and b) # print(x>2 and y<3)\n",
    "print(a or b)  # print(x>2 or y<3)\n",
    "print(not b)   # print(nor(y>=10))\n",
    "\n",
    "x=5\n",
    "y=6\n",
    "\n",
    "print(x>2 and y<3)\n",
    "print(x>2 or y<3)\n",
    "print(not(y>=10))"
   ]
  },
  {
   "cell_type": "markdown",
   "id": "78f05fd2",
   "metadata": {},
   "source": [
    "if and operator is used both values should be trues to get the ouput as True otherwise we get False\n",
    "\n",
    "if or operator is used atleast one of the values should be trues to get the ouput as True otherwise we get False\n",
    "\n",
    "nor is an operator that returns opposites values."
   ]
  },
  {
   "cell_type": "markdown",
   "id": "461be547",
   "metadata": {},
   "source": [
    "### Q.4. Explain right shift operator and left shift operator with examples.\n",
    "\n",
    "Ans:- The right shift (>>) and left shift (<<) operators are bitwise shift operators. \n",
    "    \n",
    "Right Shift (>>):The right shift operator shifts the bits of a number to the right by a specified number of positions. The rightmost bits that are shifted out are discarded, and new bits (usually zeros) are added on the left."
   ]
  },
  {
   "cell_type": "code",
   "execution_count": 68,
   "id": "b198fbc3",
   "metadata": {},
   "outputs": [
    {
     "name": "stdout",
     "output_type": "stream",
     "text": [
      "0b10000\n",
      "0b100\n",
      "4\n"
     ]
    }
   ],
   "source": [
    "num1 = 16  # Binary: 10000\n",
    "r_binary1=bin(num1)\n",
    "print(r_binary1)\n",
    "\n",
    "result = num1 >> 2  # Shift right by 2 positions\n",
    "r_binary2=bin(result) # Binary representation of 16 >> 2\n",
    "print(r_binary2)\n",
    "\n",
    "print(result)  #\n",
    "\n"
   ]
  },
  {
   "cell_type": "code",
   "execution_count": 60,
   "id": "155033ad",
   "metadata": {},
   "outputs": [
    {
     "name": "stdout",
     "output_type": "stream",
     "text": [
      "0b100\n"
     ]
    }
   ],
   "source": [
    "num1 = 4\n",
    "binary=bin(num1)\n",
    "print(binary)\n"
   ]
  },
  {
   "cell_type": "markdown",
   "id": "d2c728cc",
   "metadata": {},
   "source": [
    "Left Shift (<<):The left shift operator shifts the bits of a number to the left by a specified number of positions. New bits (usually zeros) are added on the right, and the leftmost bits that are shifted out are discarded."
   ]
  },
  {
   "cell_type": "code",
   "execution_count": 66,
   "id": "6c912d18",
   "metadata": {},
   "outputs": [
    {
     "name": "stdout",
     "output_type": "stream",
     "text": [
      "0b11001\n",
      "0b1100100\n",
      "100\n"
     ]
    }
   ],
   "source": [
    "num1 = 25 # Binary: 11001\n",
    "l_binary1=bin(num1)\n",
    "print(l_binary1)\n",
    "\n",
    "result = num1 << 2  # Shift left by 2 positions\n",
    "l_binary2=bin(result) # Binary representation of 25<< 2: 1100100\n",
    "print(l_binary2)\n",
    "\n",
    "print(result)  "
   ]
  },
  {
   "cell_type": "code",
   "execution_count": 67,
   "id": "d638ba92",
   "metadata": {},
   "outputs": [
    {
     "name": "stdout",
     "output_type": "stream",
     "text": [
      "0b1100100\n"
     ]
    }
   ],
   "source": [
    "num3 =100  # Binary: 10000\n",
    "l_binary3=bin(num3)\n",
    "print(l_binary3)\n"
   ]
  },
  {
   "cell_type": "markdown",
   "id": "613d3de8",
   "metadata": {},
   "source": [
    "### Q.5. Create a list containing int type data of length 15. Then write a code to check if 10 is present in the list or not.\n",
    "    "
   ]
  },
  {
   "cell_type": "code",
   "execution_count": 35,
   "id": "53e0f306",
   "metadata": {},
   "outputs": [],
   "source": [
    "list_1=list(range(20))"
   ]
  },
  {
   "cell_type": "code",
   "execution_count": 36,
   "id": "accfdeaf",
   "metadata": {},
   "outputs": [
    {
     "name": "stdout",
     "output_type": "stream",
     "text": [
      "[0, 1, 2, 3, 4, 5, 6, 7, 8, 9, 10, 11, 12, 13, 14, 15, 16, 17, 18, 19]\n"
     ]
    }
   ],
   "source": [
    "print(list_1)"
   ]
  },
  {
   "cell_type": "code",
   "execution_count": 37,
   "id": "8059cfcb",
   "metadata": {},
   "outputs": [
    {
     "name": "stdout",
     "output_type": "stream",
     "text": [
      " yes !, number 10 is present in the list\n"
     ]
    }
   ],
   "source": [
    "    if 10 in list_1:\n",
    "        print(f\" yes !, number 10 is present in the list\")\n",
    "    else:\n",
    "        print(f\" 10 is not present  in the list\")"
   ]
  },
  {
   "cell_type": "code",
   "execution_count": null,
   "id": "feeb05e1",
   "metadata": {},
   "outputs": [],
   "source": [
    "#list_1=[0, 1, 2, 3, 4, 5, 6, 7, 8, 9, 10, 11, 12, 13, 14, 15, 16, 17, 18, 19]  \n",
    "#for i in list_1:\n",
    "#  if i==10:\n",
    "#     print(f\" yes !, number 10 is present in the list\")\n",
    "#  else:\n",
    "#     print(f\" 10 is not present  in the list\")"
   ]
  },
  {
   "cell_type": "code",
   "execution_count": null,
   "id": "a2e4da47",
   "metadata": {},
   "outputs": [],
   "source": []
  }
 ],
 "metadata": {
  "kernelspec": {
   "display_name": "Python 3 (ipykernel)",
   "language": "python",
   "name": "python3"
  },
  "language_info": {
   "codemirror_mode": {
    "name": "ipython",
    "version": 3
   },
   "file_extension": ".py",
   "mimetype": "text/x-python",
   "name": "python",
   "nbconvert_exporter": "python",
   "pygments_lexer": "ipython3",
   "version": "3.9.13"
  }
 },
 "nbformat": 4,
 "nbformat_minor": 5
}
