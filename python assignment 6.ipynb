{
 "cells": [
  {
   "cell_type": "markdown",
   "id": "e80e19cb",
   "metadata": {},
   "source": [
    "### Q.1. What are keywords in python? Using the keyword library, print all the python keywords.\n",
    "\n",
    "Ans:- Keywords in python is fixed words that cannot be used as a variables names or function names beause they already have been assign with the python interpriter."
   ]
  },
  {
   "cell_type": "code",
   "execution_count": 4,
   "id": "587e8357",
   "metadata": {},
   "outputs": [
    {
     "name": "stdout",
     "output_type": "stream",
     "text": [
      "['False', 'None', 'True', '__peg_parser__', 'and', 'as', 'assert', 'async', 'await', 'break', 'class', 'continue', 'def', 'del', 'elif', 'else', 'except', 'finally', 'for', 'from', 'global', 'if', 'import', 'in', 'is', 'lambda', 'nonlocal', 'not', 'or', 'pass', 'raise', 'return', 'try', 'while', 'with', 'yield']\n"
     ]
    },
    {
     "data": {
      "text/plain": [
       "36"
      ]
     },
     "execution_count": 4,
     "metadata": {},
     "output_type": "execute_result"
    }
   ],
   "source": [
    "import keyword\n",
    "\n",
    "print(keyword.kwlist)\n",
    "\n",
    "len(keyword.kwlist)"
   ]
  },
  {
   "cell_type": "markdown",
   "id": "215de985",
   "metadata": {},
   "source": [
    "### Q.2. What are the rules to create variables in python?\n",
    "\n",
    "Ans:- The rules for creating python variables are,\n",
    "    \n",
    "    1) Variables can start only eith letter or underscore(_), it cannot be started with the numbers or symbols\n",
    "    2) variables are case sensitives. keywords cannot be variables.\n",
    "    3) Their should not be any sapce while writing a variable.\n",
    "    4) variables should be meaningful and easy to understand.\n",
    "    "
   ]
  },
  {
   "cell_type": "markdown",
   "id": "3b68ce64",
   "metadata": {},
   "source": [
    "### Q.3. What are the standards and conventions followed for the nomenclature of variables in python to improve code readability and maintainability?\n",
    "\n",
    "Ans:-  The standards and conventions followed for the nomenclature of variables in python to improve code readability and maintainability are\n",
    "\n",
    "    1) Choose variable names that clearly describe the purpose or content of the variable. \n",
    "    2) For variable names use lowercase letters and underscores to separate words in multi-word variable names.eg dog_name\n",
    "    3) Make the variable names meaningful and related to their purpose. Don't Choose names that won't be easily confused with   other variables or functions in your code.\n",
    "    4) Use CamelCase for class names.\n",
    "    5) Don't use Python keywords or built-in function names as variable names. This can lead to confusion and unexpected behavior.\n",
    "    6) Consistency is key. Follow the same naming conventions throughout your codebase to maintain uniformity."
   ]
  },
  {
   "cell_type": "markdown",
   "id": "262251b0",
   "metadata": {},
   "source": [
    "### Q.4. What will happen if a keyword is used as a variable name?\n",
    "\n",
    "Ans:- we will get SyntaxError if we use keywords as variables"
   ]
  },
  {
   "cell_type": "markdown",
   "id": "21a2d41b",
   "metadata": {},
   "source": [
    "### Q.5. For what purpose def keyword is used?\n",
    "\n",
    "Ans:- def keyword is used to define a function.\n",
    "    "
   ]
  },
  {
   "cell_type": "markdown",
   "id": "92f0c3dc",
   "metadata": {},
   "source": [
    "### Q.6. What is the operation of this special character ‘\\’?\n",
    "\n",
    "Ans:- The special character '\\' (backslash) is used in python, for escape Sequences in Strings, Escaping Special Characters.\n",
    "  "
   ]
  },
  {
   "cell_type": "markdown",
   "id": "ded8187e",
   "metadata": {},
   "source": [
    "### Q.7. Give an example of the following conditions:\n",
    "    \n",
    "(i) Homogeneous list\n",
    "(ii) Heterogeneous set\n",
    "(iii) Homogeneous tuple\n",
    "\n",
    "Ans:- (i) A homogeneous list is a list that contains elements of same data type. For example, a list of integers, a list of strings.eg numbers = [10, 20, 30, 40, 50]\n",
    "\n",
    "ii) A heterogeneous set is a set that contains elements of different data types. The elements within the set can be of varying data types.eg mixed_set = {1, \"hello\", 3.14, (1, 2, 3)}\n",
    "\n",
    "iii) A homogeneous tuple is a tuple that contains elements of the same data type. Similar to a homogeneous list, all elements within the tuple share a common data type.eg colors = (\"red\", \"green\", \"blue\", \"yellow\")\n",
    "\n"
   ]
  },
  {
   "cell_type": "markdown",
   "id": "cfcbad88",
   "metadata": {},
   "source": [
    "### Q.8. Explain the mutable and immutable data types with proper explanation & examples.\n",
    "\n",
    "Ans;- Mutable data types are those whose values can be change after creation. This means you can change the content or elements within the data type without creating a new instance. Lists, dictionaries, and sets are examples of mutable data types."
   ]
  },
  {
   "cell_type": "code",
   "execution_count": 6,
   "id": "f708dedd",
   "metadata": {},
   "outputs": [
    {
     "name": "stdout",
     "output_type": "stream",
     "text": [
      "[1, 10, 3]\n",
      "[1, 10, 3, 4]\n"
     ]
    }
   ],
   "source": [
    "my_list = [1, 2, 3]\n",
    "my_list[1] = 10\n",
    "print(my_list) \n",
    "\n",
    "my_list.append(4)\n",
    "print(my_list)\n"
   ]
  },
  {
   "cell_type": "markdown",
   "id": "ef5731d1",
   "metadata": {},
   "source": [
    "Immutable data types are those whose values cannot be changed after creation. If you want to modify the value of an immutable data type, you need to create a new instance with the modified value.strings,number and tuples are examples of immutable data type."
   ]
  },
  {
   "cell_type": "code",
   "execution_count": 8,
   "id": "e5a615a6",
   "metadata": {},
   "outputs": [
    {
     "name": "stdout",
     "output_type": "stream",
     "text": [
      "Hello World\n",
      "7\n"
     ]
    }
   ],
   "source": [
    "text = \"Hello\"\n",
    "text = text + \" World\"  \n",
    "print(text)             \n",
    "\n",
    "\n",
    "num = 5\n",
    "num = num + 2 \n",
    "print(num)    \n"
   ]
  },
  {
   "cell_type": "markdown",
   "id": "a81fdd95",
   "metadata": {},
   "source": [
    "### Q.9. Write a code to create the given structure using only for loop.\n",
    "\n",
    "*\n",
    "\n",
    "***\n",
    "\n",
    "*****\n",
    "\n",
    "*******\n",
    "\n",
    "*********"
   ]
  },
  {
   "cell_type": "code",
   "execution_count": 11,
   "id": "b148c752",
   "metadata": {},
   "outputs": [
    {
     "name": "stdout",
     "output_type": "stream",
     "text": [
      "\n",
      "*\n",
      "***\n",
      "*****\n",
      "*******\n",
      "*********\n"
     ]
    }
   ],
   "source": [
    "rows = 5\n",
    "\n",
    "for i in range(rows+1):\n",
    "    print(\"*\" * (2*i - 1))\n"
   ]
  },
  {
   "cell_type": "markdown",
   "id": "679f7fca",
   "metadata": {},
   "source": [
    "### Q.10. Write a code to create the given structure using while loop.\n",
    "\n",
    "|||||||||\n",
    "\n",
    "|||||||\n",
    "\n",
    "|||||\n",
    "\n",
    "|||\n",
    "\n",
    "|"
   ]
  },
  {
   "cell_type": "code",
   "execution_count": 17,
   "id": "2500ab49",
   "metadata": {},
   "outputs": [
    {
     "name": "stdout",
     "output_type": "stream",
     "text": [
      "|||||||||\n",
      "|||||||\n",
      "|||||\n",
      "|||\n",
      "|\n"
     ]
    }
   ],
   "source": [
    "# Initialize the number of symbols in the first line\n",
    "n = 9\n",
    "# Use a while loop to print each line\n",
    "while n > 0:\n",
    "    # Print the symbol n times\n",
    "    print(\"|\" * n)\n",
    "    # Decrement n by 2\n",
    "    n -= 2\n"
   ]
  },
  {
   "cell_type": "code",
   "execution_count": null,
   "id": "fc1600fa",
   "metadata": {},
   "outputs": [],
   "source": []
  }
 ],
 "metadata": {
  "kernelspec": {
   "display_name": "Python 3 (ipykernel)",
   "language": "python",
   "name": "python3"
  },
  "language_info": {
   "codemirror_mode": {
    "name": "ipython",
    "version": 3
   },
   "file_extension": ".py",
   "mimetype": "text/x-python",
   "name": "python",
   "nbconvert_exporter": "python",
   "pygments_lexer": "ipython3",
   "version": "3.9.13"
  }
 },
 "nbformat": 4,
 "nbformat_minor": 5
}
