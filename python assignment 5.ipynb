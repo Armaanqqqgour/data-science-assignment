{
 "cells": [
  {
   "cell_type": "markdown",
   "id": "dcb629ae",
   "metadata": {},
   "source": [
    "### 1.1. What does an empty dictionary's code look like?\n",
    "\n",
    "Ans:- An empty dictionary's code look like an empty curly bracket {}"
   ]
  },
  {
   "cell_type": "markdown",
   "id": "eca828bc",
   "metadata": {},
   "source": [
    "### 2. What is the value of a dictionary value with the key 'foo' and the value 42?\n",
    "\n",
    "Ans:- The value of a dictionary value with the key 'foo' and the value 42 is given by "
   ]
  },
  {
   "cell_type": "code",
   "execution_count": 4,
   "id": "56e0da5e",
   "metadata": {},
   "outputs": [
    {
     "name": "stdout",
     "output_type": "stream",
     "text": [
      "42\n"
     ]
    }
   ],
   "source": [
    "dict_1={\"foo\":42}\n",
    "\n",
    "print(dict_1[\"foo\"])"
   ]
  },
  {
   "cell_type": "markdown",
   "id": "b1476055",
   "metadata": {},
   "source": [
    "### 3. What is the most significant distinction between a dictionary and a list?\n",
    "\n",
    "Ans:-  The most significant distinction between a dictionary and a list is that in list items are arranged in ordered format whereas in dictionary the items stored is unordered."
   ]
  },
  {
   "cell_type": "markdown",
   "id": "80b12165",
   "metadata": {},
   "source": [
    "### 4. What happens if you try to access spam['foo'] if spam is {'bar': 100}?\n",
    "\n",
    "Ans:- we will get an KeyError we can remove this error using if else condition."
   ]
  },
  {
   "cell_type": "code",
   "execution_count": 5,
   "id": "747a02b9",
   "metadata": {
    "scrolled": true
   },
   "outputs": [
    {
     "ename": "KeyError",
     "evalue": "'foo'",
     "output_type": "error",
     "traceback": [
      "\u001b[1;31m---------------------------------------------------------------------------\u001b[0m",
      "\u001b[1;31mKeyError\u001b[0m                                  Traceback (most recent call last)",
      "\u001b[1;32m~\\AppData\\Local\\Temp\\ipykernel_14488\\1756830497.py\u001b[0m in \u001b[0;36m<module>\u001b[1;34m\u001b[0m\n\u001b[0;32m      1\u001b[0m \u001b[0mspam\u001b[0m\u001b[1;33m=\u001b[0m\u001b[1;33m{\u001b[0m\u001b[1;34m'bar'\u001b[0m\u001b[1;33m:\u001b[0m \u001b[1;36m100\u001b[0m\u001b[1;33m}\u001b[0m\u001b[1;33m\u001b[0m\u001b[1;33m\u001b[0m\u001b[0m\n\u001b[1;32m----> 2\u001b[1;33m \u001b[0mspam\u001b[0m\u001b[1;33m[\u001b[0m\u001b[1;34m'foo'\u001b[0m\u001b[1;33m]\u001b[0m\u001b[1;33m\u001b[0m\u001b[1;33m\u001b[0m\u001b[0m\n\u001b[0m",
      "\u001b[1;31mKeyError\u001b[0m: 'foo'"
     ]
    }
   ],
   "source": [
    "spam={'bar': 100}\n",
    "spam['foo']  "
   ]
  },
  {
   "cell_type": "markdown",
   "id": "aa0ead52",
   "metadata": {},
   "source": [
    "### 5. If a dictionary is stored in spam, what is the difference between the expressions 'cat' in spam and 'cat' in spam.keys()?\n",
    "\n",
    "Ans:- Their is no difference between the expression. Both expressions check whether the key 'cat' exists in the dictionary spam."
   ]
  },
  {
   "cell_type": "markdown",
   "id": "70baa300",
   "metadata": {},
   "source": [
    "### 6. If a dictionary is stored in spam, what is the difference between the expressions 'cat' in spam and 'cat' in spam.values()?\n",
    "\n",
    "Ans:- 'cat' in spam checks for the presence of the key 'cat', while 'cat' in spam.values() checks for the presence of the value 'cat' among the dictionary's values."
   ]
  },
  {
   "cell_type": "markdown",
   "id": "96a6ac06",
   "metadata": {},
   "source": [
    "### 7. What is a shortcut for the following code?"
   ]
  },
  {
   "cell_type": "markdown",
   "id": "8953c7da",
   "metadata": {},
   "source": [
    "if 'color' not in spam:\n",
    "    spam['color'] = 'black'"
   ]
  },
  {
   "cell_type": "markdown",
   "id": "de757eae",
   "metadata": {},
   "source": [
    "Ans:- spam.setdefault('color', 'black')\n"
   ]
  },
  {
   "cell_type": "markdown",
   "id": "dd90a985",
   "metadata": {},
   "source": [
    "### 8. How do you \"pretty print\" dictionary values using which module and function?"
   ]
  },
  {
   "cell_type": "markdown",
   "id": "387b5a7c",
   "metadata": {},
   "source": [
    "Ans:- You can \"pretty print\" dictionary values in Python using the pprint module (pretty-print) and its pprint() function"
   ]
  },
  {
   "cell_type": "code",
   "execution_count": null,
   "id": "a4476a43",
   "metadata": {},
   "outputs": [],
   "source": []
  }
 ],
 "metadata": {
  "kernelspec": {
   "display_name": "Python 3 (ipykernel)",
   "language": "python",
   "name": "python3"
  },
  "language_info": {
   "codemirror_mode": {
    "name": "ipython",
    "version": 3
   },
   "file_extension": ".py",
   "mimetype": "text/x-python",
   "name": "python",
   "nbconvert_exporter": "python",
   "pygments_lexer": "ipython3",
   "version": "3.9.13"
  }
 },
 "nbformat": 4,
 "nbformat_minor": 5
}
