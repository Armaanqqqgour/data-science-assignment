{
 "cells": [
  {
   "cell_type": "markdown",
   "id": "dc7f71fb",
   "metadata": {},
   "source": [
    "### 1. What is a lambda function in Python, and how does it differ from a regular function?\n",
    "\n",
    "Ans:- A lambda function in Python is a small, anonymous function that can take any number of arguments but can only have one expression. It is defined using the keyword lambda followed by the parameters and the expression."
   ]
  },
  {
   "cell_type": "code",
   "execution_count": 1,
   "id": "f1429c16",
   "metadata": {},
   "outputs": [
    {
     "name": "stdout",
     "output_type": "stream",
     "text": [
      "odd\n"
     ]
    }
   ],
   "source": [
    "even_or_odd=lambda x:\"even\"if x%2==0 else\"odd\"\n",
    "print(even_or_odd(1))"
   ]
  },
  {
   "cell_type": "markdown",
   "id": "37c0a4a7",
   "metadata": {},
   "source": [
    "A regular function in Python is defined using the def keyword followed by the name of the function, the parameters, and the body of the function. For example, def add_one(x): return x + 1 is a regular function that does the same thing as the lambda function above.\n",
    "\n",
    "The main difference between a lambda function and a regular function is that a lambda function has no name.\n",
    "\n",
    "Lambda functions are typically used for short, simple tasks, while regular functions are better suited for more complex tasks that require multiple statements."
   ]
  },
  {
   "cell_type": "code",
   "execution_count": 2,
   "id": "a57ffad3",
   "metadata": {},
   "outputs": [
    {
     "name": "stdout",
     "output_type": "stream",
     "text": [
      "enter the 1st number:8\n",
      "enter the 2st number:5\n",
      "the sum of 2 no: 13.0\n",
      "the diff of 2 no: 3.0\n",
      "the multi of 2 no: 40.0\n",
      "the div of 2 no: 1.6\n"
     ]
    }
   ],
   "source": [
    "def first():\n",
    "    num1=float(input(\"enter the 1st number:\"))\n",
    "    num2=float(input(\"enter the 2st number:\"))\n",
    "    \n",
    "    result=num1+num2\n",
    "    print(\"the sum of 2 no:\",result) \n",
    "            \n",
    "    result=num1-num2\n",
    "    print(\"the diff of 2 no:\",result) \n",
    "\n",
    "    result=num1*num2\n",
    "    print(\"the multi of 2 no:\",result) \n",
    "        \n",
    "    result=num1/num2\n",
    "    print(\"the div of 2 no:\",result) \n",
    "     \n",
    "first()"
   ]
  },
  {
   "cell_type": "markdown",
   "id": "d5f79f4e",
   "metadata": {},
   "source": [
    "### 2. Can a lambda function in Python have multiple arguments? If yes, how can you define and use them?\n",
    "\n",
    "Ans:-  Yes a lambda function in python can have multiple arguments we can use the multiple arguments by using comma separator after lambda keyword.eg:- lambda x,y: x+y"
   ]
  },
  {
   "cell_type": "code",
   "execution_count": 3,
   "id": "533fd399",
   "metadata": {},
   "outputs": [
    {
     "name": "stdout",
     "output_type": "stream",
     "text": [
      "10\n"
     ]
    }
   ],
   "source": [
    "add=lambda x,y:x+y\n",
    "\n",
    "result=add(5,5)\n",
    "print(result)"
   ]
  },
  {
   "cell_type": "markdown",
   "id": "c35d3ea9",
   "metadata": {},
   "source": [
    "### 3. How are lambda functions typically used in Python? Provide an example use case.\n",
    "\n",
    "Ans:- Typically lambda function is used in sort and simple sigle lines code where defining a full function is not needed for example like sorting the list, filtering and many more.\n",
    "\n",
    "suppose you have a list of tuples and you want to sort the list according to second numbers of tuple so you can use sorted function and lambda function as akey argument."
   ]
  },
  {
   "cell_type": "code",
   "execution_count": 4,
   "id": "82ca2168",
   "metadata": {
    "scrolled": true
   },
   "outputs": [
    {
     "name": "stdout",
     "output_type": "stream",
     "text": [
      "[(7, 2), (1, 5), (4, 8), (3, 9)]\n"
     ]
    }
   ],
   "source": [
    "data = [(3, 9), (1, 5), (7, 2), (4, 8)]\n",
    "\n",
    "sorted_data = sorted(data, key=lambda x: x[1])\n",
    "\n",
    "print(sorted_data)\n"
   ]
  },
  {
   "cell_type": "markdown",
   "id": "d1006761",
   "metadata": {},
   "source": [
    "### 4. What are the advantages and limitations of lambda functions compared to regular functions in Python?\n",
    "\n",
    "Ans:-The main advantage of lambda functions is their concise and readable syntax, which makes them ideal for simple operations.\n",
    "\n",
    "They can be created and passed in one line of code, and they don’t require a name or a separate def statement. \n",
    "\n",
    "This can make the code more easier to read for simple operations.\n",
    "\n",
    "lambda functions also have some limitations compared to regular functions.\n",
    "\n",
    "They can only contain a single expression and cannot include statements.\n",
    "\n",
    "This makes them less suitable for complex operations, and using lambda functions can make the code harder to read and understand in complex code.Due to this to this debugging becomes hard."
   ]
  },
  {
   "cell_type": "markdown",
   "id": "90c4b784",
   "metadata": {},
   "source": [
    "### 5. Are lambda functions in Python able to access variables defined outside of their own scope? Explain with an example.\n",
    "\n",
    "Ans;- Yes lambda function can access variables defined outside of their own scope."
   ]
  },
  {
   "cell_type": "code",
   "execution_count": 4,
   "id": "be09f495",
   "metadata": {},
   "outputs": [
    {
     "name": "stdout",
     "output_type": "stream",
     "text": [
      "-14\n"
     ]
    }
   ],
   "source": [
    "x=5\n",
    "y=4\n",
    "\n",
    "sub=lambda a,b: a-b-x-y\n",
    "result=sub(10,15)\n",
    "\n",
    "print(result)"
   ]
  },
  {
   "cell_type": "markdown",
   "id": "5eebf86d",
   "metadata": {},
   "source": [
    "in the above code lambda function only have two arguments a and b but its still able to access the other two variables x and y outside of it's scope."
   ]
  },
  {
   "cell_type": "markdown",
   "id": "0bfee11f",
   "metadata": {},
   "source": [
    "### 6. Write a lambda function to calculate the square of a given number.\n",
    "\n",
    "Ans:- "
   ]
  },
  {
   "cell_type": "code",
   "execution_count": 6,
   "id": "f75e647d",
   "metadata": {},
   "outputs": [
    {
     "name": "stdout",
     "output_type": "stream",
     "text": [
      "4\n"
     ]
    }
   ],
   "source": [
    "square=lambda x:x**2\n",
    "result=square(2)\n",
    "\n",
    "print(result)"
   ]
  },
  {
   "cell_type": "markdown",
   "id": "70f887a5",
   "metadata": {},
   "source": [
    "### 7. Create a lambda function to find the maximum value in a list of integers.\n",
    "\n",
    "Ans:- "
   ]
  },
  {
   "cell_type": "code",
   "execution_count": 8,
   "id": "67632b67",
   "metadata": {},
   "outputs": [
    {
     "name": "stdout",
     "output_type": "stream",
     "text": [
      "78\n"
     ]
    }
   ],
   "source": [
    "list1=[1,4,2,5,78,9,6,3]\n",
    "\n",
    "max_num=lambda x :max(x)\n",
    "\n",
    "result= max_num(list1)\n",
    "\n",
    "print(result)"
   ]
  },
  {
   "cell_type": "markdown",
   "id": "8f5c7348",
   "metadata": {},
   "source": [
    "### 8. Implement a lambda function to filter out all the even numbers from a list of integers."
   ]
  },
  {
   "cell_type": "code",
   "execution_count": 31,
   "id": "c712a57c",
   "metadata": {},
   "outputs": [
    {
     "name": "stdout",
     "output_type": "stream",
     "text": [
      "[2, 4, 6, 8]\n"
     ]
    }
   ],
   "source": [
    "list2=[1,2,3,4,5,6,7,8,9]\n",
    "\n",
    "filter_even_num =list(filter(lambda x: x % 2 == 0,list2))\n",
    "\n",
    "\n",
    "print(filter_even_num)"
   ]
  },
  {
   "cell_type": "markdown",
   "id": "04890b70",
   "metadata": {},
   "source": [
    "### 9. Write a lambda function to sort a list of strings in ascending order based on the length of each string."
   ]
  },
  {
   "cell_type": "code",
   "execution_count": 27,
   "id": "1cb32e6c",
   "metadata": {},
   "outputs": [
    {
     "name": "stdout",
     "output_type": "stream",
     "text": [
      "['fig', 'date', 'apple', 'banana', 'cherry', 'blueberry']\n",
      "sorted: ['fig', 'date', 'apple', 'banana', 'cherry', 'blueberry']\n"
     ]
    }
   ],
   "source": [
    "list3=[\"apple\", \"banana\", \"cherry\", \"date\", \"fig\", \"blueberry\"]\n",
    "\n",
    "sorted_list = lambda a: sorted(a, key=lambda x: len(x))\n",
    "       \n",
    "result=sorted_list(list3)\n",
    "\n",
    "print(result)\n",
    "\n",
    "list3.sort(key=lambda x:len(x))\n",
    "print(\"sorted:\", list3)"
   ]
  },
  {
   "cell_type": "markdown",
   "id": "1256c8de",
   "metadata": {},
   "source": [
    "### 10. Create a lambda function that takes two lists as input and returns a new list containing the common elements between the two lists."
   ]
  },
  {
   "cell_type": "code",
   "execution_count": 33,
   "id": "1cf38ceb",
   "metadata": {},
   "outputs": [
    {
     "name": "stdout",
     "output_type": "stream",
     "text": [
      "Common elements: [1, 3, 4, 5, 6]\n"
     ]
    }
   ],
   "source": [
    "list_a = [1, 2, 3, 4, 5, 6, 9]\n",
    "list_b = [3, 4, 1, 5, 6, 7]\n",
    "\n",
    "common_elements = lambda list1, list2: list(filter(lambda x: x in list2, list1))\n",
    "\n",
    "common_elements = find_common_elements(list_a, list_b)\n",
    "\n",
    "print(\"Common elements:\", common_elements) \n"
   ]
  },
  {
   "cell_type": "code",
   "execution_count": 35,
   "id": "900953d7",
   "metadata": {},
   "outputs": [
    {
     "name": "stdout",
     "output_type": "stream",
     "text": [
      "[1, 3, 4, 6]\n"
     ]
    }
   ],
   "source": [
    "def find_common(lst1, lst2):\n",
    "    return list(set(lst1) & set(lst2))\n",
    "list1 = [1,2,3,4,6,8,9]\n",
    "list2 = [3,4,5,6,1]\n",
    "result = find_common(list1, list2)\n",
    "print(result)\n"
   ]
  },
  {
   "cell_type": "markdown",
   "id": "cd3a6daf",
   "metadata": {},
   "source": [
    "### 11. Write a recursive function to calculate the factorial of a given positive integer."
   ]
  },
  {
   "cell_type": "code",
   "execution_count": 1,
   "id": "a953e29f",
   "metadata": {},
   "outputs": [
    {
     "name": "stdout",
     "output_type": "stream",
     "text": [
      "120\n",
      "3628800\n"
     ]
    }
   ],
   "source": [
    "def factorial(n):\n",
    "    if n == 0 or n == 1:\n",
    "        return 1\n",
    "    else:\n",
    "        return n * factorial(n-1)\n",
    "\n",
    "print(factorial(5))\n",
    "print(factorial(10)) \n"
   ]
  },
  {
   "cell_type": "markdown",
   "id": "dfddf014",
   "metadata": {},
   "source": [
    "### 12. Implement a recursive function to compute the nth Fibonacci number."
   ]
  },
  {
   "cell_type": "code",
   "execution_count": 3,
   "id": "03bf870d",
   "metadata": {},
   "outputs": [
    {
     "name": "stdout",
     "output_type": "stream",
     "text": [
      "The 6 th Fibonacci number is 8\n"
     ]
    }
   ],
   "source": [
    "def fibonacci(n):\n",
    "    if n <= 0:\n",
    "        return 0\n",
    "    elif n == 1:\n",
    "        return 1\n",
    "    else:\n",
    "        return fibonacci(n - 1) + fibonacci(n - 2)\n",
    "\n",
    "print(f\"The 6 th Fibonacci number is {fibonacci(6)}\")\n"
   ]
  },
  {
   "cell_type": "markdown",
   "id": "c425a8ea",
   "metadata": {},
   "source": [
    "### 13. Create a recursive function to find the sum of all the elements in a given list."
   ]
  },
  {
   "cell_type": "code",
   "execution_count": 9,
   "id": "70795698",
   "metadata": {},
   "outputs": [
    {
     "name": "stdout",
     "output_type": "stream",
     "text": [
      "The sum of the elements in the list is 15\n"
     ]
    }
   ],
   "source": [
    "def rec_sum(list1):\n",
    "    if not list1:\n",
    "        return 0\n",
    "    else:\n",
    "        return list1[0] + rec_sum(list1[1:])\n",
    "    \n",
    "print(f\"The sum of the elements in the list is\", rec_sum([1,2,3,4,5]))"
   ]
  },
  {
   "cell_type": "markdown",
   "id": "f66edf88",
   "metadata": {},
   "source": [
    "### 14. Write a recursive function to determine whether a given string is a palindrome."
   ]
  },
  {
   "cell_type": "code",
   "execution_count": 19,
   "id": "e51d8341",
   "metadata": {},
   "outputs": [
    {
     "name": "stdout",
     "output_type": "stream",
     "text": [
      "True\n",
      "False\n",
      "True\n"
     ]
    }
   ],
   "source": [
    "def is_palindrome(str):\n",
    "\n",
    "    if len(str) <= 1:\n",
    "\n",
    "        return True\n",
    "   \n",
    "    elif str[0] == str[-1]:\n",
    "      \n",
    "        return is_palindrome(str[1:-1])\n",
    "    \n",
    "    else:\n",
    "       \n",
    "        return False\n",
    "\n",
    "\n",
    "print(is_palindrome(\"madam\")) \n",
    "print(is_palindrome(\"hello\")) \n",
    "print(is_palindrome(\"racecar\")) \n"
   ]
  },
  {
   "cell_type": "markdown",
   "id": "f9c68a7c",
   "metadata": {},
   "source": [
    "### 15. Implement a recursive function to find the greatest common divisor (GCD) of two positive integers"
   ]
  },
  {
   "cell_type": "code",
   "execution_count": 20,
   "id": "453f2a99",
   "metadata": {},
   "outputs": [
    {
     "name": "stdout",
     "output_type": "stream",
     "text": [
      "The GCD  is 1\n"
     ]
    }
   ],
   "source": [
    "def gcd(a, b):\n",
    "    if b == 0:\n",
    "        return a\n",
    "    else:\n",
    "        return gcd(b, a % b)\n",
    "    \n",
    "result = gcd(5,2)\n",
    "\n",
    "print(f\"The GCD  is {result}\")\n"
   ]
  },
  {
   "cell_type": "code",
   "execution_count": null,
   "id": "04cd9bd2",
   "metadata": {},
   "outputs": [],
   "source": []
  }
 ],
 "metadata": {
  "kernelspec": {
   "display_name": "Python 3 (ipykernel)",
   "language": "python",
   "name": "python3"
  },
  "language_info": {
   "codemirror_mode": {
    "name": "ipython",
    "version": 3
   },
   "file_extension": ".py",
   "mimetype": "text/x-python",
   "name": "python",
   "nbconvert_exporter": "python",
   "pygments_lexer": "ipython3",
   "version": "3.9.13"
  }
 },
 "nbformat": 4,
 "nbformat_minor": 5
}
